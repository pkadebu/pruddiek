{
 "cells": [
  {
   "cell_type": "code",
   "execution_count": 1,
   "metadata": {
    "collapsed": true,
    "nbpresent": {
     "id": "a88987fc-ec11-4cf7-b2ff-aa768bebd851"
    }
   },
   "outputs": [],
   "source": [
    "import pandas as pd\n",
    "import numpy as np\n",
    "from sklearn.svm import SVC"
   ]
  },
  {
   "cell_type": "code",
   "execution_count": 2,
   "metadata": {
    "collapsed": true,
    "nbpresent": {
     "id": "de03d952-7704-4902-b905-cb064502ce5b"
    }
   },
   "outputs": [],
   "source": [
    "df = pd.read_csv('teraPromiseRevised.csv', encoding = \"ISO-8859-1\")"
   ]
  },
  {
   "cell_type": "code",
   "execution_count": 3,
   "metadata": {
    "nbpresent": {
     "id": "75763160-5a0c-4d01-a98e-bf70d583d6c9"
    }
   },
   "outputs": [
    {
     "data": {
      "text/html": [
       "<div>\n",
       "<style>\n",
       "    .dataframe thead tr:only-child th {\n",
       "        text-align: right;\n",
       "    }\n",
       "\n",
       "    .dataframe thead th {\n",
       "        text-align: left;\n",
       "    }\n",
       "\n",
       "    .dataframe tbody tr th {\n",
       "        vertical-align: top;\n",
       "    }\n",
       "</style>\n",
       "<table border=\"1\" class=\"dataframe\">\n",
       "  <thead>\n",
       "    <tr style=\"text-align: right;\">\n",
       "      <th></th>\n",
       "      <th>projectid</th>\n",
       "      <th>requirement</th>\n",
       "      <th>category</th>\n",
       "    </tr>\n",
       "  </thead>\n",
       "  <tbody>\n",
       "    <tr>\n",
       "      <th>0</th>\n",
       "      <td>1</td>\n",
       "      <td>'The system shall refresh the display every 60...</td>\n",
       "      <td>0</td>\n",
       "    </tr>\n",
       "    <tr>\n",
       "      <th>1</th>\n",
       "      <td>1</td>\n",
       "      <td>'The application shall match the color of the ...</td>\n",
       "      <td>0</td>\n",
       "    </tr>\n",
       "    <tr>\n",
       "      <th>2</th>\n",
       "      <td>1</td>\n",
       "      <td>' If projected  the data must be readable.  On...</td>\n",
       "      <td>0</td>\n",
       "    </tr>\n",
       "    <tr>\n",
       "      <th>3</th>\n",
       "      <td>1</td>\n",
       "      <td>' The product shall be available during normal...</td>\n",
       "      <td>0</td>\n",
       "    </tr>\n",
       "    <tr>\n",
       "      <th>4</th>\n",
       "      <td>1</td>\n",
       "      <td>' If projected  the data must be understandabl...</td>\n",
       "      <td>0</td>\n",
       "    </tr>\n",
       "  </tbody>\n",
       "</table>\n",
       "</div>"
      ],
      "text/plain": [
       "   projectid                                        requirement  category\n",
       "0          1  'The system shall refresh the display every 60...         0\n",
       "1          1  'The application shall match the color of the ...         0\n",
       "2          1  ' If projected  the data must be readable.  On...         0\n",
       "3          1  ' The product shall be available during normal...         0\n",
       "4          1  ' If projected  the data must be understandabl...         0"
      ]
     },
     "execution_count": 3,
     "metadata": {},
     "output_type": "execute_result"
    }
   ],
   "source": [
    "df.head()"
   ]
  },
  {
   "cell_type": "code",
   "execution_count": 4,
   "metadata": {
    "collapsed": true,
    "nbpresent": {
     "id": "5decdc0e-5295-484e-8803-035c689cd1e1"
    }
   },
   "outputs": [],
   "source": [
    "X = df['requirement']\n",
    "y = df['category']"
   ]
  },
  {
   "cell_type": "code",
   "execution_count": 5,
   "metadata": {
    "collapsed": true,
    "nbpresent": {
     "id": "479cafa4-65e0-4c97-9aa1-ee490c70290e"
    }
   },
   "outputs": [],
   "source": [
    "#Cleaning up the data"
   ]
  },
  {
   "cell_type": "code",
   "execution_count": 6,
   "metadata": {
    "collapsed": true,
    "nbpresent": {
     "id": "1e8df9e7-c237-4469-bc94-1a7891869d69"
    }
   },
   "outputs": [],
   "source": [
    "from sklearn.model_selection import train_test_split"
   ]
  },
  {
   "cell_type": "code",
   "execution_count": 7,
   "metadata": {
    "collapsed": true,
    "nbpresent": {
     "id": "43cc443c-4158-49f1-bbbc-a2f9bd882b55"
    }
   },
   "outputs": [],
   "source": [
    "# model, secs = build(classifier, X_train, y_train)"
   ]
  },
  {
   "cell_type": "code",
   "execution_count": 8,
   "metadata": {
    "collapsed": true,
    "nbpresent": {
     "id": "a856e6aa-a24a-4516-8abd-5bed5c9e6a1f"
    }
   },
   "outputs": [],
   "source": [
    "#CountVectorizer allows us to convert text to vecors using the bag-of-words approach\n",
    "#Instatiate the CountVectorizer"
   ]
  },
  {
   "cell_type": "code",
   "execution_count": 9,
   "metadata": {
    "collapsed": true,
    "nbpresent": {
     "id": "b2fef4a0-9cca-46be-b039-d44b19e460f4"
    }
   },
   "outputs": [],
   "source": [
    "from sklearn.feature_extraction.text import TfidfVectorizer"
   ]
  },
  {
   "cell_type": "code",
   "execution_count": 10,
   "metadata": {
    "collapsed": true,
    "nbpresent": {
     "id": "e35c7abd-37e4-44db-b20e-c8980a942078"
    }
   },
   "outputs": [],
   "source": [
    "#instantiate CountVectorizer (vectorizer)\n",
    "vect = TfidfVectorizer(min_df=1, stop_words='english', decode_error='ignore')"
   ]
  },
  {
   "cell_type": "code",
   "execution_count": 11,
   "metadata": {
    "collapsed": true,
    "nbpresent": {
     "id": "b151a178-2dd4-47d1-b27c-8c024a76f5f2"
    }
   },
   "outputs": [],
   "source": [
    "X_train, X_test, y_train, y_test = train_test_split(X, y, test_size=0.2, random_state=4)"
   ]
  },
  {
   "cell_type": "code",
   "execution_count": 12,
   "metadata": {
    "collapsed": true,
    "nbpresent": {
     "id": "7446bc86-5105-45cf-8c6b-1042efe7c35c"
    }
   },
   "outputs": [],
   "source": [
    "# fit\n",
    "# learn the 'vocabulary' of the training data (occurs in-place)\n",
    "X_trainvect= vect.fit_transform(X_train)"
   ]
  },
  {
   "cell_type": "code",
   "execution_count": 13,
   "metadata": {},
   "outputs": [
    {
     "data": {
      "text/plain": [
       "(500, 1320)"
      ]
     },
     "execution_count": 13,
     "metadata": {},
     "output_type": "execute_result"
    }
   ],
   "source": [
    "X_trainvect.shape"
   ]
  },
  {
   "cell_type": "code",
   "execution_count": 14,
   "metadata": {
    "collapsed": true,
    "nbpresent": {
     "id": "489962fd-4963-4e5b-afd0-051227e5fc34"
    }
   },
   "outputs": [],
   "source": [
    "a=X_trainvect.toarray()"
   ]
  },
  {
   "cell_type": "code",
   "execution_count": 15,
   "metadata": {
    "nbpresent": {
     "id": "2aabec85-9dfa-484e-9f30-578b85c8ee90"
    }
   },
   "outputs": [
    {
     "data": {
      "text/plain": [
       "array([[0., 0., 0., ..., 0., 0., 0.],\n",
       "       [0., 0., 0., ..., 0., 0., 0.],\n",
       "       [0., 0., 0., ..., 0., 0., 0.],\n",
       "       ...,\n",
       "       [0., 0., 0., ..., 0., 0., 0.],\n",
       "       [0., 0., 0., ..., 0., 0., 0.],\n",
       "       [0., 0., 0., ..., 0., 0., 0.]])"
      ]
     },
     "execution_count": 15,
     "metadata": {},
     "output_type": "execute_result"
    }
   ],
   "source": [
    "a"
   ]
  },
  {
   "cell_type": "code",
   "execution_count": 16,
   "metadata": {
    "nbpresent": {
     "id": "5d9aeb32-06e0-4cae-b5e2-a10e69f03769"
    }
   },
   "outputs": [
    {
     "data": {
      "text/plain": [
       "array([0., 0., 0., ..., 0., 0., 0.])"
      ]
     },
     "execution_count": 16,
     "metadata": {},
     "output_type": "execute_result"
    }
   ],
   "source": [
    "a[0]"
   ]
  },
  {
   "cell_type": "code",
   "execution_count": 17,
   "metadata": {
    "nbpresent": {
     "id": "60fb28f1-93d5-4bee-a58f-e19f4f99d315"
    }
   },
   "outputs": [
    {
     "data": {
      "text/plain": [
       "[array([u'affected', u'affecting', u'cancellations', u'capacity',\n",
       "        u'changes', u'clinical', u'clinicals', u'including', u'limited',\n",
       "        u'notify', u'occur', u'parties', u'section'], dtype='<U16')]"
      ]
     },
     "execution_count": 17,
     "metadata": {},
     "output_type": "execute_result"
    }
   ],
   "source": [
    "vect.inverse_transform(a[0])"
   ]
  },
  {
   "cell_type": "code",
   "execution_count": 18,
   "metadata": {
    "nbpresent": {
     "id": "7cc3e6fe-193e-47ab-b0e2-e8d4d4744a5e"
    }
   },
   "outputs": [
    {
     "data": {
      "text/plain": [
       "1320"
      ]
     },
     "execution_count": 18,
     "metadata": {},
     "output_type": "execute_result"
    }
   ],
   "source": [
    "len(a[0])"
   ]
  },
  {
   "cell_type": "code",
   "execution_count": 19,
   "metadata": {
    "nbpresent": {
     "id": "6c976719-a321-4e69-b6c5-bd338436e3f4"
    }
   },
   "outputs": [
    {
     "data": {
      "text/plain": [
       "[u'000',\n",
       " u'00am',\n",
       " u'00amd',\n",
       " u'10',\n",
       " u'100',\n",
       " u'1000',\n",
       " u'10x10',\n",
       " u'11',\n",
       " u'15',\n",
       " u'150',\n",
       " u'1500',\n",
       " u'20',\n",
       " u'2000',\n",
       " u'24',\n",
       " u'24x7',\n",
       " u'24x7x365',\n",
       " u'25',\n",
       " u'256k',\n",
       " u'30',\n",
       " u'30min',\n",
       " u'350',\n",
       " u'365',\n",
       " u'3am',\n",
       " u'400mb',\n",
       " u'50',\n",
       " u'56k',\n",
       " u'59pm',\n",
       " u'5pm',\n",
       " u'60',\n",
       " u'6pm',\n",
       " u'70',\n",
       " u'700',\n",
       " u'7am',\n",
       " u'7pm',\n",
       " u'80',\n",
       " u'800',\n",
       " u'800x600',\n",
       " u'8am',\n",
       " u'8pm',\n",
       " u'90',\n",
       " u'95',\n",
       " u'97',\n",
       " u'98',\n",
       " u'99',\n",
       " u'999',\n",
       " u'9am',\n",
       " u'ability',\n",
       " u'able',\n",
       " u'abuse',\n",
       " u'academic',\n",
       " u'acceptable',\n",
       " u'access',\n",
       " u'accessed',\n",
       " u'accesses',\n",
       " u'accessible',\n",
       " u'accessing',\n",
       " u'accommodate',\n",
       " u'accomplish',\n",
       " u'accordance',\n",
       " u'according',\n",
       " u'accordingly',\n",
       " u'account',\n",
       " u'accounting',\n",
       " u'accounts',\n",
       " u'accurately',\n",
       " u'achieve',\n",
       " u'acknowledgements',\n",
       " u'act',\n",
       " u'action',\n",
       " u'actions',\n",
       " u'activate',\n",
       " u'activated',\n",
       " u'active',\n",
       " u'activities',\n",
       " u'activity',\n",
       " u'actor',\n",
       " u'actual',\n",
       " u'ad',\n",
       " u'add',\n",
       " u'added',\n",
       " u'addition',\n",
       " u'additions',\n",
       " u'address',\n",
       " u'addresses',\n",
       " u'adequately',\n",
       " u'adhere',\n",
       " u'adjacent',\n",
       " u'adjust',\n",
       " u'adjuster',\n",
       " u'adjusters',\n",
       " u'adjustment',\n",
       " u'adjustments',\n",
       " u'administration',\n",
       " u'administrator',\n",
       " u'administrators',\n",
       " u'admission',\n",
       " u'admissions',\n",
       " u'adoption',\n",
       " u'advertise',\n",
       " u'affected',\n",
       " u'affecting',\n",
       " u'african',\n",
       " u'africans',\n",
       " u'afternoon',\n",
       " u'age',\n",
       " u'agency',\n",
       " u'agendas',\n",
       " u'agent',\n",
       " u'aging',\n",
       " u'agree',\n",
       " u'alienate',\n",
       " u'allow',\n",
       " u'allowed',\n",
       " u'allowing',\n",
       " u'alongside',\n",
       " u'americans',\n",
       " u'analysis',\n",
       " u'analyze',\n",
       " u'animation',\n",
       " u'anonymous',\n",
       " u'answers',\n",
       " u'apache',\n",
       " u'api',\n",
       " u'appeal',\n",
       " u'appealing',\n",
       " u'appear',\n",
       " u'appearance',\n",
       " u'applicable',\n",
       " u'application',\n",
       " u'applications',\n",
       " u'apply',\n",
       " u'appointment',\n",
       " u'appointments',\n",
       " u'appropriate',\n",
       " u'appropriately',\n",
       " u'approve',\n",
       " u'approved',\n",
       " u'architecture',\n",
       " u'arise',\n",
       " u'aside',\n",
       " u'ask',\n",
       " u'aspects',\n",
       " u'assign',\n",
       " u'assigned',\n",
       " u'assignment',\n",
       " u'associated',\n",
       " u'assumed',\n",
       " u'asynchronous',\n",
       " u'attacks',\n",
       " u'attempts',\n",
       " u'attention',\n",
       " u'audit',\n",
       " u'auditing',\n",
       " u'auditor',\n",
       " u'audits',\n",
       " u'authenticated',\n",
       " u'authentication',\n",
       " u'authorize',\n",
       " u'authorized',\n",
       " u'auto',\n",
       " u'automated',\n",
       " u'automatic',\n",
       " u'automatically',\n",
       " u'available',\n",
       " u'average',\n",
       " u'avoid',\n",
       " u'avoidance',\n",
       " u'aware',\n",
       " u'backup',\n",
       " u'balancing',\n",
       " u'base',\n",
       " u'based',\n",
       " u'basic',\n",
       " u'basis',\n",
       " u'bdw',\n",
       " u'beginning',\n",
       " u'belong',\n",
       " u'belongs',\n",
       " u'beta',\n",
       " u'billing',\n",
       " u'binary',\n",
       " u'binding',\n",
       " u'board',\n",
       " u'branding',\n",
       " u'browser',\n",
       " u'browsers',\n",
       " u'budget',\n",
       " u'budgeting',\n",
       " u'budgets',\n",
       " u'buffering',\n",
       " u'building',\n",
       " u'built',\n",
       " u'busiest',\n",
       " u'business',\n",
       " u'button',\n",
       " u'buttons',\n",
       " u'buyer',\n",
       " u'buying',\n",
       " u'cached',\n",
       " u'calendar',\n",
       " u'callers',\n",
       " u'campusconnect',\n",
       " u'cancel',\n",
       " u'cancellations',\n",
       " u'cancelled',\n",
       " u'cancels',\n",
       " u'capabilities',\n",
       " u'capability',\n",
       " u'capable',\n",
       " u'capacity',\n",
       " u'captured',\n",
       " u'car',\n",
       " u'card',\n",
       " u'cardmember',\n",
       " u'cards',\n",
       " u'case',\n",
       " u'cases',\n",
       " u'categories',\n",
       " u'category',\n",
       " u'cater',\n",
       " u'ccr',\n",
       " u'cd',\n",
       " u'center',\n",
       " u'central',\n",
       " u'certain',\n",
       " u'certified',\n",
       " u'change',\n",
       " u'changes',\n",
       " u'changing',\n",
       " u'characters',\n",
       " u'chargeback',\n",
       " u'charged',\n",
       " u'charts',\n",
       " u'checking',\n",
       " u'chicago',\n",
       " u'choice',\n",
       " u'chosen',\n",
       " u'circle',\n",
       " u'city',\n",
       " u'claim',\n",
       " u'class',\n",
       " u'classes',\n",
       " u'clean',\n",
       " u'clear',\n",
       " u'click',\n",
       " u'clicks',\n",
       " u'client',\n",
       " u'clients',\n",
       " u'clinical',\n",
       " u'clinicals',\n",
       " u'clocks',\n",
       " u'closed',\n",
       " u'cma',\n",
       " u'code',\n",
       " u'coded',\n",
       " u'codes',\n",
       " u'cohort',\n",
       " u'cohorts',\n",
       " u'collaboration',\n",
       " u'collection',\n",
       " u'collision',\n",
       " u'colocated',\n",
       " u'color',\n",
       " u'comes',\n",
       " u'comfortable',\n",
       " u'commissioner',\n",
       " u'common',\n",
       " u'communicating',\n",
       " u'communications',\n",
       " u'community',\n",
       " u'company',\n",
       " u'companys',\n",
       " u'compensatory',\n",
       " u'compile',\n",
       " u'complete',\n",
       " u'completed',\n",
       " u'completing',\n",
       " u'completion',\n",
       " u'compliance',\n",
       " u'comply',\n",
       " u'computer',\n",
       " u'computers',\n",
       " u'concise',\n",
       " u'concurrency',\n",
       " u'concurrent',\n",
       " u'conditions',\n",
       " u'conference',\n",
       " u'configurable',\n",
       " u'configure',\n",
       " u'confirm',\n",
       " u'confirmation',\n",
       " u'confirms',\n",
       " u'conform',\n",
       " u'connect',\n",
       " u'connection',\n",
       " u'connections',\n",
       " u'conservative',\n",
       " u'consist',\n",
       " u'consists',\n",
       " u'contact',\n",
       " u'contacts',\n",
       " u'contain',\n",
       " u'contained',\n",
       " u'containing',\n",
       " u'continue',\n",
       " u'conventions',\n",
       " u'cookies',\n",
       " u'coordinator',\n",
       " u'copy',\n",
       " u'corporate',\n",
       " u'correct',\n",
       " u'corrected',\n",
       " u'corresponding',\n",
       " u'corresponds',\n",
       " u'countries',\n",
       " u'country',\n",
       " u'course',\n",
       " u'crash',\n",
       " u'create',\n",
       " u'created',\n",
       " u'creates',\n",
       " u'creation',\n",
       " u'credit',\n",
       " u'credits',\n",
       " u'criteria',\n",
       " u'criterion',\n",
       " u'csr',\n",
       " u'cst',\n",
       " u'current',\n",
       " u'currently',\n",
       " u'customer',\n",
       " u'customers',\n",
       " u'customization',\n",
       " u'cybersource',\n",
       " u'cycle',\n",
       " u'daily',\n",
       " u'damaged',\n",
       " u'dashboard',\n",
       " u'data',\n",
       " u'database',\n",
       " u'databases',\n",
       " u'datastream',\n",
       " u'date',\n",
       " u'dates',\n",
       " u'day',\n",
       " u'days',\n",
       " u'db2',\n",
       " u'dbas',\n",
       " u'dbms',\n",
       " u'decreased',\n",
       " u'defect',\n",
       " u'defensive',\n",
       " u'define',\n",
       " u'defined',\n",
       " u'degradation',\n",
       " u'delete',\n",
       " u'demand',\n",
       " u'denial',\n",
       " u'department',\n",
       " u'depaul',\n",
       " u'dependent',\n",
       " u'deployed',\n",
       " u'deployment',\n",
       " u'derived',\n",
       " u'describing',\n",
       " u'description',\n",
       " u'design',\n",
       " u'designated',\n",
       " u'detailed',\n",
       " u'details',\n",
       " u'determine',\n",
       " u'determined',\n",
       " u'developed',\n",
       " u'development',\n",
       " u'device',\n",
       " u'diagonally',\n",
       " u'different',\n",
       " u'direct',\n",
       " u'directions',\n",
       " u'director',\n",
       " u'dirty',\n",
       " u'disabilities',\n",
       " u'disk',\n",
       " u'display',\n",
       " u'displayed',\n",
       " u'disputable',\n",
       " u'dispute',\n",
       " u'disputed',\n",
       " u'disputes',\n",
       " u'distance',\n",
       " u'distinguish',\n",
       " u'distributed',\n",
       " u'distribution',\n",
       " u'document',\n",
       " u'documentation',\n",
       " u'documents',\n",
       " u'donalek',\n",
       " u'download',\n",
       " u'downloaded',\n",
       " u'dr',\n",
       " u'driving',\n",
       " u'drop',\n",
       " u'dropping',\n",
       " u'duplicate',\n",
       " u'duplicates',\n",
       " u'duration',\n",
       " u'eam',\n",
       " u'early',\n",
       " u'easily',\n",
       " u'easy',\n",
       " u'eleads',\n",
       " u'email',\n",
       " u'emerge',\n",
       " u'emerging',\n",
       " u'employee',\n",
       " u'employees',\n",
       " u'enable',\n",
       " u'encoded',\n",
       " u'encounter',\n",
       " u'encountered',\n",
       " u'encourage',\n",
       " u'encrypted',\n",
       " u'encryption',\n",
       " u'end',\n",
       " u'ended',\n",
       " u'ending',\n",
       " u'enet',\n",
       " u'english',\n",
       " u'enlisted',\n",
       " u'enrolled',\n",
       " u'enrollment',\n",
       " u'ensure',\n",
       " u'ensures',\n",
       " u'enter',\n",
       " u'entered',\n",
       " u'entering',\n",
       " u'enterprise',\n",
       " u'entries',\n",
       " u'environment',\n",
       " u'environments',\n",
       " u'eports',\n",
       " u'equipment',\n",
       " u'error',\n",
       " u'errors',\n",
       " u'especially',\n",
       " u'est',\n",
       " u'established',\n",
       " u'estate',\n",
       " u'estimate',\n",
       " u'estimator',\n",
       " u'estimators',\n",
       " u'evaluation',\n",
       " u'event',\n",
       " u'events',\n",
       " u'examine',\n",
       " u'examples',\n",
       " u'exceed',\n",
       " u'excel',\n",
       " u'exception',\n",
       " u'exchange',\n",
       " u'exercise',\n",
       " u'exist',\n",
       " u'existing',\n",
       " u'expected',\n",
       " u'explanatory',\n",
       " u'explorer',\n",
       " u'exported',\n",
       " u'external',\n",
       " u'externally',\n",
       " u'facilities',\n",
       " u'facility',\n",
       " u'faculty',\n",
       " u'fail',\n",
       " u'failure',\n",
       " u'failures',\n",
       " u'fall',\n",
       " u'falls',\n",
       " u'familiar',\n",
       " u'fashion',\n",
       " u'fast',\n",
       " u'fault',\n",
       " u'feature',\n",
       " u'feed',\n",
       " u'feedback',\n",
       " u'feel',\n",
       " u'file',\n",
       " u'files',\n",
       " u'filesystems',\n",
       " u'filter',\n",
       " u'filtered',\n",
       " u'final',\n",
       " u'firefox',\n",
       " u'fit',\n",
       " u'flash',\n",
       " u'flow',\n",
       " u'follow',\n",
       " u'following',\n",
       " u'foreign',\n",
       " u'format',\n",
       " u'formatted',\n",
       " u'formatting',\n",
       " u'formula',\n",
       " u'formulas',\n",
       " u'forth',\n",
       " u'fourth',\n",
       " u'framework',\n",
       " u'free',\n",
       " u'french',\n",
       " u'friday',\n",
       " u'fully',\n",
       " u'function',\n",
       " u'functionality',\n",
       " u'future',\n",
       " u'futures',\n",
       " u'game',\n",
       " u'general',\n",
       " u'generate',\n",
       " u'generated',\n",
       " u'generation',\n",
       " u'given',\n",
       " u'govern',\n",
       " u'gpa',\n",
       " u'grab',\n",
       " u'granted',\n",
       " u'grants',\n",
       " u'graph',\n",
       " u'graphical',\n",
       " u'grid',\n",
       " u'grids',\n",
       " u'group',\n",
       " u'grow',\n",
       " u'gui',\n",
       " u'guide',\n",
       " u'guidelines',\n",
       " u'handle',\n",
       " u'handling',\n",
       " u'hard',\n",
       " u'hardware',\n",
       " u'held',\n",
       " u'help',\n",
       " u'hierarchy',\n",
       " u'high',\n",
       " u'higher',\n",
       " u'highest',\n",
       " u'highly',\n",
       " u'historical',\n",
       " u'history',\n",
       " u'hit',\n",
       " u'hitting',\n",
       " u'hoc',\n",
       " u'hold',\n",
       " u'home',\n",
       " u'homeland',\n",
       " u'horizontally',\n",
       " u'hour',\n",
       " u'hours',\n",
       " u'hsql',\n",
       " u'html',\n",
       " u'ibm',\n",
       " u'id',\n",
       " u'identification',\n",
       " u'identified',\n",
       " u'identifier',\n",
       " u'identify',\n",
       " u'identity',\n",
       " u'ids',\n",
       " u'illness',\n",
       " u'images',\n",
       " u'immediate',\n",
       " u'implementation',\n",
       " u'inactive',\n",
       " u'include',\n",
       " u'included',\n",
       " u'includes',\n",
       " u'including',\n",
       " u'incorporate',\n",
       " u'incorrect',\n",
       " u'increase',\n",
       " u'independent',\n",
       " u'index',\n",
       " u'indicating',\n",
       " u'indicators',\n",
       " u'individual',\n",
       " u'indivual',\n",
       " u'industry',\n",
       " u'informally',\n",
       " u'information',\n",
       " u'ingredients',\n",
       " u'initial',\n",
       " u'initiate',\n",
       " u'initiated',\n",
       " u'initiation',\n",
       " u'input',\n",
       " u'inquiring',\n",
       " u'insert',\n",
       " u'install',\n",
       " u'installation',\n",
       " u'installed',\n",
       " u'instantiated',\n",
       " u'instruction',\n",
       " u'instructions',\n",
       " u'instructor',\n",
       " u'instructors',\n",
       " u'insurance',\n",
       " u'integrate',\n",
       " u'integration',\n",
       " u'integrity',\n",
       " u'intentional',\n",
       " u'interacting',\n",
       " u'interface',\n",
       " u'interfaces',\n",
       " u'interference',\n",
       " u'internal',\n",
       " u'internally',\n",
       " u'internet',\n",
       " u'interrupting',\n",
       " u'interruption',\n",
       " u'intranet',\n",
       " u'introduced',\n",
       " u'intuitive',\n",
       " u'invalid',\n",
       " u'inventory',\n",
       " u'invite',\n",
       " u'iqa',\n",
       " u'issuer',\n",
       " u'items',\n",
       " u'izogn',\n",
       " u'izognmovies',\n",
       " u'j2ee',\n",
       " u'j2se',\n",
       " u'java',\n",
       " u'jboss',\n",
       " u'julie',\n",
       " u'karen',\n",
       " u'keeping',\n",
       " u'kept',\n",
       " u'key',\n",
       " u'keyboard',\n",
       " u'kinds',\n",
       " u'kpis',\n",
       " u'lab',\n",
       " u'labs',\n",
       " u'language',\n",
       " u'languages',\n",
       " u'late',\n",
       " u'latency',\n",
       " u'later',\n",
       " u'latest',\n",
       " u'launch',\n",
       " u'lead',\n",
       " u'leads',\n",
       " u'league',\n",
       " u'learn',\n",
       " u'lecture',\n",
       " u'left',\n",
       " u'legal',\n",
       " u'let',\n",
       " u'letter',\n",
       " u'letters',\n",
       " u'level',\n",
       " u'levels',\n",
       " u'libraries',\n",
       " u'license',\n",
       " u'licensing',\n",
       " u'life',\n",
       " u'lifecycle',\n",
       " u'limit',\n",
       " u'limited',\n",
       " u'line',\n",
       " u'link',\n",
       " u'list',\n",
       " u'listing',\n",
       " u'listings',\n",
       " u'little',\n",
       " u'load',\n",
       " u'loaded',\n",
       " u'local',\n",
       " u'locale',\n",
       " u'locate',\n",
       " u'located',\n",
       " u'location',\n",
       " u'locations',\n",
       " u'log',\n",
       " u'logged',\n",
       " u'logging',\n",
       " u'login',\n",
       " u'logins',\n",
       " u'logo',\n",
       " u'logon',\n",
       " u'logons',\n",
       " u'long',\n",
       " u'longer',\n",
       " u'look',\n",
       " u'low',\n",
       " u'machine',\n",
       " u'mail',\n",
       " u'main',\n",
       " u'maintain',\n",
       " u'maintained',\n",
       " u'maintenance',\n",
       " u'major',\n",
       " u'make',\n",
       " u'making',\n",
       " u'malicious',\n",
       " u'manage',\n",
       " u'managed',\n",
       " u'management',\n",
       " u'manager',\n",
       " u'managers',\n",
       " u'managment',\n",
       " u'manner',\n",
       " u'manual',\n",
       " u'map',\n",
       " u'maps',\n",
       " u'mark',\n",
       " u'marked',\n",
       " u'market',\n",
       " u'match',\n",
       " u'matrix',\n",
       " u'maximum',\n",
       " u'means',\n",
       " u'media',\n",
       " u'medium',\n",
       " u'meet',\n",
       " u'meeting',\n",
       " u'meetings',\n",
       " u'member',\n",
       " u'members',\n",
       " u'menu',\n",
       " u'menus',\n",
       " u'merchant',\n",
       " u'message',\n",
       " u'messages',\n",
       " u'messaging',\n",
       " u'method',\n",
       " u'methods',\n",
       " u'middle',\n",
       " u'miles',\n",
       " u'minimum',\n",
       " u'minutes',\n",
       " u'miss',\n",
       " u'mistakes',\n",
       " u'mls',\n",
       " u'mode',\n",
       " u'model',\n",
       " u'modern',\n",
       " u'modification',\n",
       " u'modifications',\n",
       " u'modifies',\n",
       " u'modify',\n",
       " u'modifying',\n",
       " u'monday',\n",
       " u'monitor',\n",
       " u'monitoring',\n",
       " u'month',\n",
       " u'months',\n",
       " u'morning',\n",
       " u'mouse',\n",
       " u'movie',\n",
       " u'movies',\n",
       " u'moving',\n",
       " u'mozilla',\n",
       " u'ms',\n",
       " u'msel',\n",
       " u'msn',\n",
       " u'multi',\n",
       " u'multiple',\n",
       " u'mysql',\n",
       " u'naturally',\n",
       " u'navigate',\n",
       " u'navigating',\n",
       " u'navigation',\n",
       " u'navigator',\n",
       " u'necessary',\n",
       " u'needed',\n",
       " u'needs',\n",
       " u'netscape',\n",
       " u'network',\n",
       " u'neutral',\n",
       " u'new',\n",
       " u'nfl',\n",
       " u'nigeria',\n",
       " u'nigerians',\n",
       " u'nodes',\n",
       " u'noisy',\n",
       " u'nomenclature',\n",
       " u'non',\n",
       " u'noted',\n",
       " u'notification',\n",
       " u'notifications',\n",
       " u'notified',\n",
       " u'notify',\n",
       " u'novice',\n",
       " u'number',\n",
       " u'nursing',\n",
       " u'occur',\n",
       " u'occuring',\n",
       " u'occurred',\n",
       " u'occurrences',\n",
       " u'occurs',\n",
       " u'october',\n",
       " u'offensive',\n",
       " u'offer',\n",
       " u'offered',\n",
       " u'offerings',\n",
       " u'office',\n",
       " u'offline',\n",
       " u'online',\n",
       " u'open',\n",
       " u'operate',\n",
       " u'operated',\n",
       " u'operating',\n",
       " u'operational',\n",
       " u'operations',\n",
       " u'option',\n",
       " u'oracle',\n",
       " u'order',\n",
       " u'organization',\n",
       " u'organizations',\n",
       " u'organizer',\n",
       " u'organizers',\n",
       " u'original',\n",
       " u'outside',\n",
       " u'overcome',\n",
       " u'overhead',\n",
       " u'overlapping',\n",
       " u'owned',\n",
       " u'owner',\n",
       " u'packaged',\n",
       " u'page',\n",
       " u'pages',\n",
       " u'paid',\n",
       " u'paper',\n",
       " u'parallel',\n",
       " u'parameter',\n",
       " u'parameters',\n",
       " u'particular',\n",
       " u'parties',\n",
       " u'parts',\n",
       " u'pass',\n",
       " u'password',\n",
       " u'pause',\n",
       " u'pay',\n",
       " u'payment',\n",
       " u'pcg',\n",
       " u'peak',\n",
       " u'pear',\n",
       " u'pending',\n",
       " u'people',\n",
       " u'percentage',\n",
       " u'perform',\n",
       " u'performance',\n",
       " u'performed',\n",
       " u'performing',\n",
       " u'period',\n",
       " u'periods',\n",
       " u'periscope',\n",
       " u'permission',\n",
       " u'permissions',\n",
       " u'persisted',\n",
       " u'person',\n",
       " u'personal',\n",
       " u'personnel',\n",
       " u'pfe',\n",
       " u'phone',\n",
       " u'php',\n",
       " u'physical',\n",
       " u'pins',\n",
       " u'planning',\n",
       " u'platform',\n",
       " u'player',\n",
       " u'players',\n",
       " u'pme',\n",
       " u'point',\n",
       " u'points',\n",
       " u'policy',\n",
       " u'poll',\n",
       " u'portals',\n",
       " u'portfolio',\n",
       " u'portion',\n",
       " u'pos',\n",
       " u'position',\n",
       " u'positioned',\n",
       " u'poslusny',\n",
       " u'possibility',\n",
       " u'possible',\n",
       " u'post',\n",
       " u'posted',\n",
       " u'posting',\n",
       " u'potential',\n",
       " u'practices',\n",
       " u'pre',\n",
       " u'preferences',\n",
       " u'preferred',\n",
       " u'prevent',\n",
       " u'previous',\n",
       " u'previously',\n",
       " u'primary',\n",
       " u'print',\n",
       " u'printable',\n",
       " u'printed',\n",
       " u'prior',\n",
       " u'privacy',\n",
       " u'private',\n",
       " u'privileges',\n",
       " u'problem',\n",
       " u'problems',\n",
       " u'process',\n",
       " u'processed',\n",
       " u'processing',\n",
       " u'produce',\n",
       " u'product',\n",
       " u'productivity',\n",
       " u'products',\n",
       " u'professional',\n",
       " u'program',\n",
       " u'programming',\n",
       " u'programs',\n",
       " u'progress',\n",
       " u'projected',\n",
       " u'projection',\n",
       " u'promotional',\n",
       " u'prompt',\n",
       " u'proof',\n",
       " u'property',\n",
       " u'protect',\n",
       " u'protection',\n",
       " u'provide',\n",
       " u'provided',\n",
       " u'provides',\n",
       " u'purchase',\n",
       " u'purchased',\n",
       " u'purchasing',\n",
       " u'purged',\n",
       " u'purposes',\n",
       " u'quantity',\n",
       " u'quarter',\n",
       " u'quarterly',\n",
       " u'quarters',\n",
       " u'queries',\n",
       " u'query',\n",
       " u'questions',\n",
       " u'radius',\n",
       " u'range',\n",
       " u'ratings',\n",
       " u'rationale',\n",
       " u'reach',\n",
       " u'reaching',\n",
       " u'read',\n",
       " u'readable',\n",
       " u'real',\n",
       " u'realtor',\n",
       " u'realtors',\n",
       " u'reason',\n",
       " u'receipt',\n",
       " u'receipts',\n",
       " u'receive',\n",
       " u'received',\n",
       " u'receiving',\n",
       " u'recently',\n",
       " u'record',\n",
       " u'recorded',\n",
       " u'records',\n",
       " u'recourse',\n",
       " u'recovery',\n",
       " u'recreation',\n",
       " u'recycled',\n",
       " u'reduce',\n",
       " u'reflect',\n",
       " u'refresh',\n",
       " u'regard',\n",
       " u'regions',\n",
       " u'register',\n",
       " u'registered',\n",
       " u'regular',\n",
       " u'regularly',\n",
       " u'regulation',\n",
       " u'regulations',\n",
       " u'rejection',\n",
       " u'relating',\n",
       " u'release',\n",
       " u'released',\n",
       " u'releases',\n",
       " u'relevance',\n",
       " u'relevant',\n",
       " u'remain',\n",
       " u'remaining',\n",
       " u'remember',\n",
       " u'reminders',\n",
       " u'remote',\n",
       " u'remove',\n",
       " u'rental',\n",
       " u'rep',\n",
       " u'repair',\n",
       " u'report',\n",
       " u'reported',\n",
       " u'reporting',\n",
       " u'reports',\n",
       " u'representatives',\n",
       " u'reps',\n",
       " ...]"
      ]
     },
     "execution_count": 19,
     "metadata": {},
     "output_type": "execute_result"
    }
   ],
   "source": [
    "# examine the fitted vocabulary\n",
    "vect.get_feature_names()"
   ]
  },
  {
   "cell_type": "code",
   "execution_count": 20,
   "metadata": {
    "collapsed": true,
    "nbpresent": {
     "id": "78ea446a-5861-4821-82d6-038e55925243"
    }
   },
   "outputs": [],
   "source": [
    "svm = SVC(kernel='linear')"
   ]
  },
  {
   "cell_type": "code",
   "execution_count": 21,
   "metadata": {
    "collapsed": true,
    "nbpresent": {
     "id": "f8b48b69-0703-48a7-8382-abffc26aae3e"
    }
   },
   "outputs": [],
   "source": [
    "y_train = y_train.astype('int')"
   ]
  },
  {
   "cell_type": "code",
   "execution_count": 22,
   "metadata": {
    "nbpresent": {
     "id": "f963267f-c7ab-4304-a7db-709cdfbbffcb"
    }
   },
   "outputs": [
    {
     "data": {
      "text/plain": [
       "SVC(C=1.0, cache_size=200, class_weight=None, coef0=0.0,\n",
       "  decision_function_shape='ovr', degree=3, gamma='auto', kernel='linear',\n",
       "  max_iter=-1, probability=False, random_state=None, shrinking=True,\n",
       "  tol=0.001, verbose=False)"
      ]
     },
     "execution_count": 22,
     "metadata": {},
     "output_type": "execute_result"
    }
   ],
   "source": [
    "svm.fit(X_trainvect, y_train)"
   ]
  },
  {
   "cell_type": "code",
   "execution_count": 23,
   "metadata": {
    "collapsed": true,
    "nbpresent": {
     "id": "5e66ae7e-d0a4-455c-90f6-5374d29d6790"
    }
   },
   "outputs": [],
   "source": [
    "X_testvect= vect.transform(X_test) "
   ]
  },
  {
   "cell_type": "code",
   "execution_count": 24,
   "metadata": {
    "collapsed": true,
    "nbpresent": {
     "id": "471f0114-0b7d-462a-9b48-78feedaa5d88"
    }
   },
   "outputs": [],
   "source": [
    "#pred = mnb.predict(X_trainvect)"
   ]
  },
  {
   "cell_type": "code",
   "execution_count": 25,
   "metadata": {
    "collapsed": true,
    "nbpresent": {
     "id": "0e880819-0cc3-4ecf-80e5-dc7a83b0e91c"
    }
   },
   "outputs": [],
   "source": [
    "#pred"
   ]
  },
  {
   "cell_type": "code",
   "execution_count": 26,
   "metadata": {
    "collapsed": true,
    "nbpresent": {
     "id": "956ee527-27c5-4e69-9634-3d13afaa59a7"
    }
   },
   "outputs": [],
   "source": [
    "b = X_testvect.toarray()"
   ]
  },
  {
   "cell_type": "code",
   "execution_count": 27,
   "metadata": {
    "nbpresent": {
     "id": "ff4bf8ad-7b26-4d1a-bab8-049ac21ee84f"
    }
   },
   "outputs": [
    {
     "data": {
      "text/plain": [
       "array([[0., 0., 0., ..., 0., 0., 0.],\n",
       "       [0., 0., 0., ..., 0., 0., 0.],\n",
       "       [0., 0., 0., ..., 0., 0., 0.],\n",
       "       ...,\n",
       "       [0., 0., 0., ..., 0., 0., 0.],\n",
       "       [0., 0., 0., ..., 0., 0., 0.],\n",
       "       [0., 0., 0., ..., 0., 0., 0.]])"
      ]
     },
     "execution_count": 27,
     "metadata": {},
     "output_type": "execute_result"
    }
   ],
   "source": [
    "b"
   ]
  },
  {
   "cell_type": "code",
   "execution_count": 28,
   "metadata": {},
   "outputs": [
    {
     "data": {
      "text/plain": [
       "(500, 1320)"
      ]
     },
     "execution_count": 28,
     "metadata": {},
     "output_type": "execute_result"
    }
   ],
   "source": [
    "X_trainvect.shape"
   ]
  },
  {
   "cell_type": "code",
   "execution_count": 29,
   "metadata": {},
   "outputs": [
    {
     "data": {
      "text/plain": [
       "(500L,)"
      ]
     },
     "execution_count": 29,
     "metadata": {},
     "output_type": "execute_result"
    }
   ],
   "source": [
    "y_train.shape"
   ]
  },
  {
   "cell_type": "code",
   "execution_count": 30,
   "metadata": {
    "nbpresent": {
     "id": "56cd9a9e-474d-40eb-a31a-c2f6eb2bb920"
    }
   },
   "outputs": [
    {
     "data": {
      "text/plain": [
       "<125x1320 sparse matrix of type '<type 'numpy.float64'>'\n",
       "\twith 1056 stored elements in Compressed Sparse Row format>"
      ]
     },
     "execution_count": 30,
     "metadata": {},
     "output_type": "execute_result"
    }
   ],
   "source": [
    "X_testvect"
   ]
  },
  {
   "cell_type": "code",
   "execution_count": 31,
   "metadata": {},
   "outputs": [
    {
     "data": {
      "text/plain": [
       "(125, 1320)"
      ]
     },
     "execution_count": 31,
     "metadata": {},
     "output_type": "execute_result"
    }
   ],
   "source": [
    "X_testvect.shape"
   ]
  },
  {
   "cell_type": "code",
   "execution_count": 32,
   "metadata": {
    "collapsed": true,
    "nbpresent": {
     "id": "c63d66f8-fa41-4ab9-b56c-4b942a5921c2"
    }
   },
   "outputs": [],
   "source": [
    "y_test = y_test.astype('int')"
   ]
  },
  {
   "cell_type": "code",
   "execution_count": 33,
   "metadata": {
    "collapsed": true,
    "nbpresent": {
     "id": "77c547fe-e6af-4336-9c18-65eca84c617e"
    }
   },
   "outputs": [],
   "source": [
    "pred = svm.predict(X_testvect)"
   ]
  },
  {
   "cell_type": "code",
   "execution_count": 34,
   "metadata": {
    "collapsed": true,
    "nbpresent": {
     "id": "6197efcc-cb84-4f22-851d-fd65a9b28a36"
    }
   },
   "outputs": [],
   "source": [
    "# calculate accuracy of class predictions\n",
    "from sklearn import metrics\n",
    "from sklearn.metrics import f1_score"
   ]
  },
  {
   "cell_type": "code",
   "execution_count": 35,
   "metadata": {},
   "outputs": [
    {
     "data": {
      "text/plain": [
       "0.92"
      ]
     },
     "execution_count": 35,
     "metadata": {},
     "output_type": "execute_result"
    }
   ],
   "source": [
    "metrics.accuracy_score(y_test, pred)"
   ]
  },
  {
   "cell_type": "code",
   "execution_count": 36,
   "metadata": {
    "nbpresent": {
     "id": "5319f87d-56e6-4e2e-8fca-790d5d7646b8"
    }
   },
   "outputs": [
    {
     "name": "stdout",
     "output_type": "stream",
     "text": [
      "F1 score: 0.44\n"
     ]
    }
   ],
   "source": [
    "# f1 score\n",
    "score = f1_score(y_test, pred)\n",
    "\n",
    "# print\n",
    "print(\"F1 score: {:.2f}\".format(score))"
   ]
  },
  {
   "cell_type": "code",
   "execution_count": 37,
   "metadata": {},
   "outputs": [
    {
     "name": "stderr",
     "output_type": "stream",
     "text": [
      "C:\\Users\\Prue\\Anaconda2\\lib\\site-packages\\h5py\\__init__.py:36: FutureWarning: Conversion of the second argument of issubdtype from `float` to `np.floating` is deprecated. In future, it will be treated as `np.float64 == np.dtype(float).type`.\n",
      "  from ._conv import register_converters as _register_converters\n",
      "Using Theano backend.\n"
     ]
    }
   ],
   "source": [
    "from keras.models import Sequential\n",
    "from keras.layers import Dense\n",
    "from keras.layers import Dropout\n",
    "import matplotlib.pyplot as plt\n",
    "import seaborn as sns; sns.set()\n",
    "from pandas.tools.plotting import scatter_matrix\n",
    "%matplotlib inline"
   ]
  },
  {
   "cell_type": "markdown",
   "metadata": {},
   "source": [
    "## Create a Deep Neural Network Classifier with 5 layers and 1000 neurons per layer\n",
    "use a dropout to prevent overfitting "
   ]
  },
  {
   "cell_type": "code",
   "execution_count": 38,
   "metadata": {
    "collapsed": true
   },
   "outputs": [],
   "source": [
    "model = Sequential()\n",
    "model.add(Dense(1000, input_dim=X_trainvect.shape[1], kernel_initializer='uniform', activation='relu'))\n",
    "model.add(Dropout(0.2))\n",
    "model.add(Dense(1000, kernel_initializer='uniform', activation='relu'))\n",
    "model.add(Dropout(0.2))\n",
    "model.add(Dense(1000, kernel_initializer='uniform', activation='relu'))\n",
    "model.add(Dropout(0.2))\n",
    "model.add(Dense(1000, kernel_initializer='uniform', activation='relu'))\n",
    "model.add(Dropout(0.2))\n",
    "model.add(Dense(1, kernel_initializer='uniform', activation='sigmoid'))"
   ]
  },
  {
   "cell_type": "markdown",
   "metadata": {},
   "source": [
    "## Print Model Summary"
   ]
  },
  {
   "cell_type": "code",
   "execution_count": 39,
   "metadata": {},
   "outputs": [
    {
     "name": "stdout",
     "output_type": "stream",
     "text": [
      "_________________________________________________________________\n",
      "Layer (type)                 Output Shape              Param #   \n",
      "=================================================================\n",
      "dense_1 (Dense)              (None, 1000)              1321000   \n",
      "_________________________________________________________________\n",
      "dropout_1 (Dropout)          (None, 1000)              0         \n",
      "_________________________________________________________________\n",
      "dense_2 (Dense)              (None, 1000)              1001000   \n",
      "_________________________________________________________________\n",
      "dropout_2 (Dropout)          (None, 1000)              0         \n",
      "_________________________________________________________________\n",
      "dense_3 (Dense)              (None, 1000)              1001000   \n",
      "_________________________________________________________________\n",
      "dropout_3 (Dropout)          (None, 1000)              0         \n",
      "_________________________________________________________________\n",
      "dense_4 (Dense)              (None, 1000)              1001000   \n",
      "_________________________________________________________________\n",
      "dropout_4 (Dropout)          (None, 1000)              0         \n",
      "_________________________________________________________________\n",
      "dense_5 (Dense)              (None, 1)                 1001      \n",
      "=================================================================\n",
      "Total params: 4,325,001\n",
      "Trainable params: 4,325,001\n",
      "Non-trainable params: 0\n",
      "_________________________________________________________________\n",
      "None\n"
     ]
    }
   ],
   "source": [
    "print(model.summary())"
   ]
  },
  {
   "cell_type": "markdown",
   "metadata": {},
   "source": [
    "## Compile the model"
   ]
  },
  {
   "cell_type": "code",
   "execution_count": 40,
   "metadata": {
    "collapsed": true
   },
   "outputs": [],
   "source": [
    "model.compile(loss='binary_crossentropy', optimizer='adam', metrics=['accuracy'])"
   ]
  },
  {
   "cell_type": "markdown",
   "metadata": {},
   "source": [
    "## Fit the model"
   ]
  },
  {
   "cell_type": "code",
   "execution_count": 41,
   "metadata": {},
   "outputs": [
    {
     "name": "stdout",
     "output_type": "stream",
     "text": [
      "Epoch 1/500\n",
      "500/500 [==============================] - 2s 3ms/step - loss: 0.4027 - acc: 0.8600\n",
      "Epoch 2/500\n",
      "500/500 [==============================] - 1s 2ms/step - loss: 0.1785 - acc: 0.8960\n",
      "Epoch 3/500\n",
      "500/500 [==============================] - 1s 2ms/step - loss: 0.0784 - acc: 0.9320\n",
      "Epoch 4/500\n",
      "500/500 [==============================] - 1s 2ms/step - loss: 0.0619 - acc: 1.0000\n",
      "Epoch 5/500\n",
      "500/500 [==============================] - 1s 2ms/step - loss: 0.0190 - acc: 0.9980\n",
      "Epoch 6/500\n",
      "500/500 [==============================] - 1s 2ms/step - loss: 0.0022 - acc: 1.0000\n",
      "Epoch 7/500\n",
      "500/500 [==============================] - 1s 2ms/step - loss: 0.0021 - acc: 1.0000\n",
      "Epoch 8/500\n",
      "500/500 [==============================] - 1s 2ms/step - loss: 0.0166 - acc: 0.9980\n",
      "Epoch 9/500\n",
      "500/500 [==============================] - 1s 2ms/step - loss: 0.0037 - acc: 0.9980\n",
      "Epoch 10/500\n",
      "500/500 [==============================] - 1s 2ms/step - loss: 2.6170e-04 - acc: 1.0000\n",
      "Epoch 11/500\n",
      "500/500 [==============================] - 1s 2ms/step - loss: 1.8443e-04 - acc: 1.0000\n",
      "Epoch 12/500\n",
      "500/500 [==============================] - 1s 2ms/step - loss: 3.9623e-05 - acc: 1.0000\n",
      "Epoch 13/500\n",
      "500/500 [==============================] - 1s 2ms/step - loss: 2.8983e-05 - acc: 1.0000\n",
      "Epoch 14/500\n",
      "500/500 [==============================] - 1s 2ms/step - loss: 7.2295e-05 - acc: 1.0000\n",
      "Epoch 15/500\n",
      "500/500 [==============================] - 1s 2ms/step - loss: 2.2641e-05 - acc: 1.0000\n",
      "Epoch 16/500\n",
      "500/500 [==============================] - 1s 2ms/step - loss: 2.0128e-05 - acc: 1.0000\n",
      "Epoch 17/500\n",
      "500/500 [==============================] - 1s 2ms/step - loss: 1.4645e-05 - acc: 1.0000\n",
      "Epoch 18/500\n",
      "500/500 [==============================] - 1s 2ms/step - loss: 1.0836e-05 - acc: 1.0000\n",
      "Epoch 19/500\n",
      "500/500 [==============================] - 1s 2ms/step - loss: 6.7954e-06 - acc: 1.0000\n",
      "Epoch 20/500\n",
      "500/500 [==============================] - 1s 3ms/step - loss: 3.1874e-05 - acc: 1.0000\n",
      "Epoch 21/500\n",
      "500/500 [==============================] - 1s 2ms/step - loss: 1.1760e-05 - acc: 1.0000\n",
      "Epoch 22/500\n",
      "500/500 [==============================] - 1s 2ms/step - loss: 1.4684e-05 - acc: 1.0000\n",
      "Epoch 23/500\n",
      "500/500 [==============================] - 1s 2ms/step - loss: 8.2447e-06 - acc: 1.0000\n",
      "Epoch 24/500\n",
      "500/500 [==============================] - 1s 2ms/step - loss: 4.4832e-06 - acc: 1.0000\n",
      "Epoch 25/500\n",
      "500/500 [==============================] - 1s 2ms/step - loss: 1.4942e-05 - acc: 1.0000\n",
      "Epoch 26/500\n",
      "500/500 [==============================] - 1s 2ms/step - loss: 3.8228e-06 - acc: 1.0000\n",
      "Epoch 27/500\n",
      "500/500 [==============================] - 1s 2ms/step - loss: 8.0021e-06 - acc: 1.0000\n",
      "Epoch 28/500\n",
      "500/500 [==============================] - 1s 2ms/step - loss: 7.5932e-06 - acc: 1.0000\n",
      "Epoch 29/500\n",
      "500/500 [==============================] - 1s 2ms/step - loss: 8.6241e-06 - acc: 1.0000\n",
      "Epoch 30/500\n",
      "500/500 [==============================] - 1s 2ms/step - loss: 3.8580e-06 - acc: 1.0000\n",
      "Epoch 31/500\n",
      "500/500 [==============================] - 1s 2ms/step - loss: 4.2120e-06 - acc: 1.0000\n",
      "Epoch 32/500\n",
      "500/500 [==============================] - 2s 3ms/step - loss: 2.4130e-06 - acc: 1.0000\n",
      "Epoch 33/500\n",
      "500/500 [==============================] - 3s 5ms/step - loss: 3.7123e-06 - acc: 1.0000\n",
      "Epoch 34/500\n",
      "500/500 [==============================] - 3s 7ms/step - loss: 9.5208e-07 - acc: 1.0000\n",
      "Epoch 35/500\n",
      "500/500 [==============================] - 4s 7ms/step - loss: 2.9436e-06 - acc: 1.0000\n",
      "Epoch 36/500\n",
      "500/500 [==============================] - 4s 8ms/step - loss: 3.9289e-06 - acc: 1.0000\n",
      "Epoch 37/500\n",
      "500/500 [==============================] - 4s 8ms/step - loss: 3.7141e-06 - acc: 1.0000\n",
      "Epoch 38/500\n",
      "500/500 [==============================] - 4s 9ms/step - loss: 8.5502e-06 - acc: 1.0000\n",
      "Epoch 39/500\n",
      "500/500 [==============================] - 5s 9ms/step - loss: 4.1524e-06 - acc: 1.0000\n",
      "Epoch 40/500\n",
      "500/500 [==============================] - 5s 9ms/step - loss: 1.2624e-06 - acc: 1.0000\n",
      "Epoch 41/500\n",
      "500/500 [==============================] - 4s 9ms/step - loss: 7.3584e-06 - acc: 1.0000\n",
      "Epoch 42/500\n",
      "500/500 [==============================] - 4s 8ms/step - loss: 1.2570e-06 - acc: 1.0000\n",
      "Epoch 43/500\n",
      "500/500 [==============================] - 4s 8ms/step - loss: 3.0062e-06 - acc: 1.0000A: 2s - loss: 6.9326e-06 -\n",
      "Epoch 44/500\n",
      "500/500 [==============================] - 4s 8ms/step - loss: 1.6848e-06 - acc: 1.0000\n",
      "Epoch 45/500\n",
      "500/500 [==============================] - 4s 8ms/step - loss: 4.7504e-07 - acc: 1.0000A: 1s - loss: 4.7776e-07 - acc: \n",
      "Epoch 46/500\n",
      "500/500 [==============================] - 4s 8ms/step - loss: 2.2883e-06 - acc: 1.0000\n",
      "Epoch 47/500\n",
      "500/500 [==============================] - 4s 8ms/step - loss: 1.6539e-06 - acc: 1.0000\n",
      "Epoch 48/500\n",
      "500/500 [==============================] - 4s 8ms/step - loss: 4.8707e-07 - acc: 1.0000\n",
      "Epoch 49/500\n",
      "500/500 [==============================] - 4s 7ms/step - loss: 1.8873e-06 - acc: 1.0000\n",
      "Epoch 50/500\n",
      "500/500 [==============================] - 4s 7ms/step - loss: 1.0585e-06 - acc: 1.0000\n",
      "Epoch 51/500\n",
      "500/500 [==============================] - 4s 7ms/step - loss: 3.6470e-07 - acc: 1.0000\n",
      "Epoch 52/500\n",
      "500/500 [==============================] - 4s 8ms/step - loss: 3.0765e-07 - acc: 1.0000\n",
      "Epoch 53/500\n",
      "500/500 [==============================] - 4s 8ms/step - loss: 5.1105e-07 - acc: 1.0000\n",
      "Epoch 54/500\n",
      "500/500 [==============================] - 4s 8ms/step - loss: 8.1814e-07 - acc: 1.0000\n",
      "Epoch 55/500\n",
      "500/500 [==============================] - 4s 8ms/step - loss: 7.5227e-07 - acc: 1.0000\n",
      "Epoch 56/500\n",
      "500/500 [==============================] - 4s 8ms/step - loss: 3.9779e-07 - acc: 1.0000\n",
      "Epoch 57/500\n",
      "500/500 [==============================] - 4s 8ms/step - loss: 5.2818e-07 - acc: 1.0000\n",
      "Epoch 58/500\n",
      "500/500 [==============================] - 4s 8ms/step - loss: 5.8493e-07 - acc: 1.0000\n",
      "Epoch 59/500\n",
      "500/500 [==============================] - 4s 8ms/step - loss: 2.9614e-07 - acc: 1.0000\n",
      "Epoch 60/500\n",
      "500/500 [==============================] - 4s 8ms/step - loss: 3.3062e-07 - acc: 1.0000\n",
      "Epoch 61/500\n",
      "500/500 [==============================] - 4s 8ms/step - loss: 5.5765e-07 - acc: 1.0000\n",
      "Epoch 62/500\n",
      "500/500 [==============================] - 4s 8ms/step - loss: 1.1081e-06 - acc: 1.0000\n",
      "Epoch 63/500\n",
      "500/500 [==============================] - 4s 8ms/step - loss: 1.0674e-05 - acc: 1.0000\n",
      "Epoch 64/500\n",
      "500/500 [==============================] - 4s 8ms/step - loss: 1.4700e-06 - acc: 1.0000\n",
      "Epoch 65/500\n",
      "500/500 [==============================] - 4s 8ms/step - loss: 7.6963e-07 - acc: 1.0000\n",
      "Epoch 66/500\n",
      "500/500 [==============================] - 4s 8ms/step - loss: 2.7029e-07 - acc: 1.0000A: 3s - loss: 1.5655e-07 - acc: 1.0 - ETA: 2s - loss: 5.4354e-07 \n",
      "Epoch 67/500\n",
      "500/500 [==============================] - 4s 8ms/step - loss: 1.0995e-06 - acc: 1.0000\n",
      "Epoch 68/500\n",
      "500/500 [==============================] - 4s 8ms/step - loss: 1.8930e-06 - acc: 1.0000\n",
      "Epoch 69/500\n",
      "500/500 [==============================] - 4s 8ms/step - loss: 5.1689e-06 - acc: 1.0000\n",
      "Epoch 70/500\n",
      "500/500 [==============================] - 4s 8ms/step - loss: 1.1291e-06 - acc: 1.0000\n",
      "Epoch 71/500\n",
      "500/500 [==============================] - 4s 8ms/step - loss: 1.6787e-07 - acc: 1.0000\n",
      "Epoch 72/500\n",
      "500/500 [==============================] - 4s 8ms/step - loss: 1.5591e-07 - acc: 1.0000A: 2s - loss: 1.0335e-07 - a\n",
      "Epoch 73/500\n",
      "500/500 [==============================] - 4s 8ms/step - loss: 6.0145e-07 - acc: 1.0000\n",
      "Epoch 74/500\n",
      "500/500 [==============================] - 4s 8ms/step - loss: 8.7728e-07 - acc: 1.0000A: 0s - loss: 9.5923e-07 - acc: 1.00\n",
      "Epoch 75/500\n",
      "500/500 [==============================] - 4s 8ms/step - loss: 1.4291e-07 - acc: 1.0000\n",
      "Epoch 76/500\n",
      "500/500 [==============================] - 4s 8ms/step - loss: 1.3269e-07 - acc: 1.0000\n",
      "Epoch 77/500\n",
      "500/500 [==============================] - 4s 8ms/step - loss: 1.2617e-07 - acc: 1.0000\n",
      "Epoch 78/500\n",
      "500/500 [==============================] - 4s 8ms/step - loss: 6.8430e-07 - acc: 1.0000\n",
      "Epoch 79/500\n",
      "500/500 [==============================] - 4s 8ms/step - loss: 3.1884e-07 - acc: 1.0000\n",
      "Epoch 80/500\n",
      "500/500 [==============================] - 4s 8ms/step - loss: 1.2993e-07 - acc: 1.0000\n",
      "Epoch 81/500\n",
      "500/500 [==============================] - 4s 8ms/step - loss: 6.4496e-07 - acc: 1.0000\n",
      "Epoch 82/500\n",
      "500/500 [==============================] - 4s 8ms/step - loss: 1.9020e-07 - acc: 1.0000\n",
      "Epoch 83/500\n",
      "500/500 [==============================] - 4s 8ms/step - loss: 1.4700e-07 - acc: 1.0000\n",
      "Epoch 84/500\n",
      "500/500 [==============================] - 4s 8ms/step - loss: 8.5593e-07 - acc: 1.0000\n",
      "Epoch 85/500\n",
      "500/500 [==============================] - 4s 8ms/step - loss: 3.5291e-07 - acc: 1.0000\n",
      "Epoch 86/500\n",
      "500/500 [==============================] - 4s 8ms/step - loss: 1.5838e-07 - acc: 1.0000\n",
      "Epoch 87/500\n",
      "500/500 [==============================] - 4s 8ms/step - loss: 1.9319e-07 - acc: 1.0000\n",
      "Epoch 88/500\n",
      "500/500 [==============================] - 4s 9ms/step - loss: 1.3819e-07 - acc: 1.0000\n",
      "Epoch 89/500\n",
      "500/500 [==============================] - 4s 8ms/step - loss: 1.2952e-07 - acc: 1.0000\n",
      "Epoch 90/500\n",
      "500/500 [==============================] - 4s 8ms/step - loss: 3.0902e-06 - acc: 1.0000\n",
      "Epoch 91/500\n",
      "500/500 [==============================] - 4s 9ms/step - loss: 1.1329e-07 - acc: 1.0000\n",
      "Epoch 92/500\n",
      "500/500 [==============================] - 4s 9ms/step - loss: 1.2528e-07 - acc: 1.0000\n",
      "Epoch 93/500\n",
      "500/500 [==============================] - 4s 9ms/step - loss: 1.1072e-07 - acc: 1.0000\n",
      "Epoch 94/500\n",
      "500/500 [==============================] - 4s 9ms/step - loss: 1.2693e-07 - acc: 1.0000\n",
      "Epoch 95/500\n",
      "500/500 [==============================] - 4s 9ms/step - loss: 1.1200e-07 - acc: 1.0000\n",
      "Epoch 96/500\n",
      "500/500 [==============================] - 4s 9ms/step - loss: 2.8841e-07 - acc: 1.0000\n",
      "Epoch 97/500\n",
      "500/500 [==============================] - 4s 9ms/step - loss: 1.2525e-07 - acc: 1.0000\n",
      "Epoch 98/500\n",
      "500/500 [==============================] - 4s 9ms/step - loss: 1.2098e-07 - acc: 1.0000\n",
      "Epoch 99/500\n",
      "500/500 [==============================] - 4s 9ms/step - loss: 1.1784e-07 - acc: 1.0000\n",
      "Epoch 100/500\n",
      "500/500 [==============================] - 4s 9ms/step - loss: 3.1903e-07 - acc: 1.0000\n",
      "Epoch 101/500\n",
      "500/500 [==============================] - 4s 9ms/step - loss: 1.8219e-07 - acc: 1.0000\n",
      "Epoch 102/500\n",
      "500/500 [==============================] - 4s 9ms/step - loss: 1.7036e-07 - acc: 1.0000\n",
      "Epoch 103/500\n",
      "500/500 [==============================] - 5s 9ms/step - loss: 1.2709e-07 - acc: 1.0000\n",
      "Epoch 104/500\n",
      "500/500 [==============================] - 4s 9ms/step - loss: 1.3973e-07 - acc: 1.0000\n",
      "Epoch 105/500\n",
      "500/500 [==============================] - 4s 9ms/step - loss: 1.8722e-07 - acc: 1.0000\n",
      "Epoch 106/500\n",
      "500/500 [==============================] - 4s 9ms/step - loss: 1.2829e-07 - acc: 1.0000\n",
      "Epoch 107/500\n",
      "500/500 [==============================] - 4s 9ms/step - loss: 1.8926e-07 - acc: 1.0000\n",
      "Epoch 108/500\n",
      "500/500 [==============================] - 4s 9ms/step - loss: 1.7548e-07 - acc: 1.0000\n",
      "Epoch 109/500\n",
      "500/500 [==============================] - 4s 9ms/step - loss: 3.3484e-07 - acc: 1.0000\n",
      "Epoch 110/500\n",
      "500/500 [==============================] - 5s 9ms/step - loss: 1.5453e-07 - acc: 1.0000\n",
      "Epoch 111/500\n",
      "500/500 [==============================] - 5s 9ms/step - loss: 1.6640e-07 - acc: 1.0000\n",
      "Epoch 112/500\n",
      "500/500 [==============================] - 5s 9ms/step - loss: 1.1106e-07 - acc: 1.0000\n",
      "Epoch 113/500\n",
      "500/500 [==============================] - 4s 9ms/step - loss: 1.0961e-07 - acc: 1.0000\n",
      "Epoch 114/500\n",
      "500/500 [==============================] - 4s 9ms/step - loss: 1.0690e-07 - acc: 1.0000\n",
      "Epoch 115/500\n",
      "500/500 [==============================] - 4s 9ms/step - loss: 1.4001e-07 - acc: 1.0000\n",
      "Epoch 116/500\n",
      "500/500 [==============================] - 5s 9ms/step - loss: 3.6188e-07 - acc: 1.0000\n",
      "Epoch 117/500\n",
      "500/500 [==============================] - 5s 9ms/step - loss: 1.2013e-07 - acc: 1.0000\n",
      "Epoch 118/500\n",
      "500/500 [==============================] - 5s 9ms/step - loss: 1.0960e-07 - acc: 1.0000\n",
      "Epoch 119/500\n",
      "500/500 [==============================] - 5s 9ms/step - loss: 2.6084e-07 - acc: 1.0000\n",
      "Epoch 120/500\n",
      "500/500 [==============================] - 5s 9ms/step - loss: 1.1404e-07 - acc: 1.0000\n",
      "Epoch 121/500\n",
      "500/500 [==============================] - 5s 9ms/step - loss: 6.2067e-07 - acc: 1.0000\n",
      "Epoch 122/500\n",
      "500/500 [==============================] - 5s 9ms/step - loss: 1.0600e-07 - acc: 1.0000\n",
      "Epoch 123/500\n",
      "500/500 [==============================] - 5s 9ms/step - loss: 1.3465e-06 - acc: 1.0000\n",
      "Epoch 124/500\n",
      "500/500 [==============================] - 5s 9ms/step - loss: 1.2500e-07 - acc: 1.0000\n",
      "Epoch 125/500\n",
      "500/500 [==============================] - 5s 9ms/step - loss: 4.9211e-07 - acc: 1.0000\n",
      "Epoch 126/500\n",
      "500/500 [==============================] - 5s 9ms/step - loss: 1.3915e-07 - acc: 1.0000\n",
      "Epoch 127/500\n",
      "500/500 [==============================] - 5s 9ms/step - loss: 3.1042e-07 - acc: 1.0000\n",
      "Epoch 128/500\n",
      "500/500 [==============================] - 5s 9ms/step - loss: 1.1401e-07 - acc: 1.0000\n",
      "Epoch 129/500\n",
      "500/500 [==============================] - 5s 9ms/step - loss: 1.3405e-07 - acc: 1.0000\n",
      "Epoch 130/500\n",
      "500/500 [==============================] - 4s 9ms/step - loss: 1.0610e-07 - acc: 1.0000\n",
      "Epoch 131/500\n",
      "500/500 [==============================] - 4s 9ms/step - loss: 1.1544e-07 - acc: 1.0000\n",
      "Epoch 132/500\n",
      "500/500 [==============================] - 5s 9ms/step - loss: 1.1207e-07 - acc: 1.0000\n",
      "Epoch 133/500\n",
      "500/500 [==============================] - 5s 9ms/step - loss: 1.2025e-07 - acc: 1.0000\n",
      "Epoch 134/500\n",
      "500/500 [==============================] - 4s 9ms/step - loss: 1.6127e-07 - acc: 1.0000\n",
      "Epoch 135/500\n",
      "500/500 [==============================] - 5s 9ms/step - loss: 1.3569e-07 - acc: 1.0000\n",
      "Epoch 136/500\n",
      "500/500 [==============================] - 5s 9ms/step - loss: 1.4745e-07 - acc: 1.0000\n",
      "Epoch 137/500\n",
      "500/500 [==============================] - 5s 9ms/step - loss: 1.1894e-07 - acc: 1.0000\n",
      "Epoch 138/500\n",
      "500/500 [==============================] - 5s 9ms/step - loss: 1.3817e-07 - acc: 1.0000\n",
      "Epoch 139/500\n",
      "500/500 [==============================] - 5s 9ms/step - loss: 1.2191e-07 - acc: 1.0000\n",
      "Epoch 140/500\n",
      "500/500 [==============================] - 5s 9ms/step - loss: 1.0616e-07 - acc: 1.0000\n",
      "Epoch 141/500\n",
      "500/500 [==============================] - 5s 9ms/step - loss: 1.2559e-07 - acc: 1.0000\n",
      "Epoch 142/500\n",
      "500/500 [==============================] - 4s 9ms/step - loss: 1.0691e-07 - acc: 1.0000\n",
      "Epoch 143/500\n",
      "500/500 [==============================] - 4s 9ms/step - loss: 1.6871e-07 - acc: 1.0000\n",
      "Epoch 144/500\n",
      "500/500 [==============================] - 5s 9ms/step - loss: 1.7902e-07 - acc: 1.0000\n",
      "Epoch 145/500\n",
      "500/500 [==============================] - 4s 9ms/step - loss: 1.0534e-07 - acc: 1.0000\n",
      "Epoch 146/500\n",
      "500/500 [==============================] - 5s 9ms/step - loss: 1.0856e-07 - acc: 1.0000\n",
      "Epoch 147/500\n",
      "500/500 [==============================] - 4s 9ms/step - loss: 1.0482e-07 - acc: 1.0000\n",
      "Epoch 148/500\n",
      "500/500 [==============================] - 5s 9ms/step - loss: 1.1213e-07 - acc: 1.0000\n",
      "Epoch 149/500\n",
      "500/500 [==============================] - 5s 9ms/step - loss: 1.0695e-07 - acc: 1.0000\n",
      "Epoch 150/500\n",
      "500/500 [==============================] - 4s 9ms/step - loss: 1.0379e-07 - acc: 1.0000\n",
      "Epoch 151/500\n",
      "500/500 [==============================] - 4s 9ms/step - loss: 1.0810e-07 - acc: 1.0000\n",
      "Epoch 152/500\n",
      "500/500 [==============================] - 5s 9ms/step - loss: 1.4696e-07 - acc: 1.0000\n",
      "Epoch 153/500\n",
      "500/500 [==============================] - 4s 9ms/step - loss: 1.6823e-07 - acc: 1.0000\n",
      "Epoch 154/500\n",
      "500/500 [==============================] - 5s 9ms/step - loss: 1.2923e-07 - acc: 1.0000\n",
      "Epoch 155/500\n",
      "500/500 [==============================] - 5s 9ms/step - loss: 1.1268e-07 - acc: 1.0000\n",
      "Epoch 156/500\n",
      "500/500 [==============================] - 5s 9ms/step - loss: 1.0549e-07 - acc: 1.0000\n",
      "Epoch 157/500\n",
      "500/500 [==============================] - 5s 9ms/step - loss: 1.2081e-07 - acc: 1.0000\n",
      "Epoch 158/500\n",
      "500/500 [==============================] - 5s 9ms/step - loss: 1.1683e-07 - acc: 1.0000\n",
      "Epoch 159/500\n",
      "500/500 [==============================] - 5s 9ms/step - loss: 3.2915e-07 - acc: 1.0000\n",
      "Epoch 160/500\n"
     ]
    },
    {
     "name": "stdout",
     "output_type": "stream",
     "text": [
      "500/500 [==============================] - 5s 9ms/step - loss: 1.0659e-07 - acc: 1.0000\n",
      "Epoch 161/500\n",
      "500/500 [==============================] - 5s 9ms/step - loss: 1.9561e-07 - acc: 1.0000\n",
      "Epoch 162/500\n",
      "500/500 [==============================] - 5s 9ms/step - loss: 1.2014e-07 - acc: 1.0000\n",
      "Epoch 163/500\n",
      "500/500 [==============================] - 4s 9ms/step - loss: 1.5757e-07 - acc: 1.0000\n",
      "Epoch 164/500\n",
      "500/500 [==============================] - 4s 9ms/step - loss: 1.0557e-07 - acc: 1.0000\n",
      "Epoch 165/500\n",
      "500/500 [==============================] - 4s 9ms/step - loss: 5.8003e-07 - acc: 1.0000\n",
      "Epoch 166/500\n",
      "500/500 [==============================] - 4s 9ms/step - loss: 1.0460e-07 - acc: 1.0000\n",
      "Epoch 167/500\n",
      "500/500 [==============================] - 5s 9ms/step - loss: 1.8943e-07 - acc: 1.0000\n",
      "Epoch 168/500\n",
      "500/500 [==============================] - 5s 9ms/step - loss: 3.2844e-07 - acc: 1.0000\n",
      "Epoch 169/500\n",
      "500/500 [==============================] - 5s 9ms/step - loss: 1.3454e-07 - acc: 1.0000\n",
      "Epoch 170/500\n",
      "500/500 [==============================] - 5s 9ms/step - loss: 1.2966e-07 - acc: 1.0000\n",
      "Epoch 171/500\n",
      "500/500 [==============================] - 5s 9ms/step - loss: 4.2123e-07 - acc: 1.0000\n",
      "Epoch 172/500\n",
      "500/500 [==============================] - 5s 9ms/step - loss: 1.1278e-07 - acc: 1.0000\n",
      "Epoch 173/500\n",
      "500/500 [==============================] - 5s 10ms/step - loss: 1.0699e-07 - acc: 1.0000\n",
      "Epoch 174/500\n",
      "500/500 [==============================] - 5s 9ms/step - loss: 1.0946e-07 - acc: 1.0000\n",
      "Epoch 175/500\n",
      "500/500 [==============================] - 4s 9ms/step - loss: 1.0852e-07 - acc: 1.0000\n",
      "Epoch 176/500\n",
      "500/500 [==============================] - 4s 9ms/step - loss: 1.3736e-07 - acc: 1.0000\n",
      "Epoch 177/500\n",
      "500/500 [==============================] - 5s 9ms/step - loss: 1.9105e-07 - acc: 1.0000\n",
      "Epoch 178/500\n",
      "500/500 [==============================] - 5s 9ms/step - loss: 1.2368e-07 - acc: 1.0000\n",
      "Epoch 179/500\n",
      "500/500 [==============================] - 5s 9ms/step - loss: 1.2760e-07 - acc: 1.0000\n",
      "Epoch 180/500\n",
      "500/500 [==============================] - 4s 9ms/step - loss: 1.0321e-07 - acc: 1.0000\n",
      "Epoch 181/500\n",
      "500/500 [==============================] - 5s 9ms/step - loss: 1.2201e-07 - acc: 1.0000\n",
      "Epoch 182/500\n",
      "500/500 [==============================] - 5s 9ms/step - loss: 1.0391e-07 - acc: 1.0000\n",
      "Epoch 183/500\n",
      "500/500 [==============================] - 5s 9ms/step - loss: 1.0205e-07 - acc: 1.0000\n",
      "Epoch 184/500\n",
      "500/500 [==============================] - 5s 9ms/step - loss: 1.0503e-07 - acc: 1.0000\n",
      "Epoch 185/500\n",
      "500/500 [==============================] - 5s 9ms/step - loss: 1.7008e-07 - acc: 1.0000\n",
      "Epoch 186/500\n",
      "500/500 [==============================] - 5s 9ms/step - loss: 1.0629e-07 - acc: 1.0000\n",
      "Epoch 187/500\n",
      "500/500 [==============================] - 5s 9ms/step - loss: 1.0257e-07 - acc: 1.0000\n",
      "Epoch 188/500\n",
      "500/500 [==============================] - 5s 9ms/step - loss: 1.1030e-07 - acc: 1.0000\n",
      "Epoch 189/500\n",
      "500/500 [==============================] - 5s 9ms/step - loss: 1.1510e-07 - acc: 1.0000\n",
      "Epoch 190/500\n",
      "500/500 [==============================] - 5s 9ms/step - loss: 1.0347e-07 - acc: 1.0000\n",
      "Epoch 191/500\n",
      "500/500 [==============================] - 5s 10ms/step - loss: 1.1414e-07 - acc: 1.0000\n",
      "Epoch 192/500\n",
      "500/500 [==============================] - 5s 9ms/step - loss: 1.1148e-07 - acc: 1.0000\n",
      "Epoch 193/500\n",
      "500/500 [==============================] - 5s 9ms/step - loss: 1.0469e-07 - acc: 1.0000\n",
      "Epoch 194/500\n",
      "500/500 [==============================] - 5s 9ms/step - loss: 1.0363e-07 - acc: 1.0000\n",
      "Epoch 195/500\n",
      "500/500 [==============================] - 5s 9ms/step - loss: 1.3233e-07 - acc: 1.0000\n",
      "Epoch 196/500\n",
      "500/500 [==============================] - 4s 9ms/step - loss: 1.0443e-07 - acc: 1.0000\n",
      "Epoch 197/500\n",
      "500/500 [==============================] - 4s 9ms/step - loss: 1.5052e-07 - acc: 1.0000\n",
      "Epoch 198/500\n",
      "500/500 [==============================] - 4s 9ms/step - loss: 1.3327e-07 - acc: 1.0000\n",
      "Epoch 199/500\n",
      "500/500 [==============================] - 5s 9ms/step - loss: 1.0882e-07 - acc: 1.0000\n",
      "Epoch 200/500\n",
      "500/500 [==============================] - 5s 9ms/step - loss: 1.0498e-07 - acc: 1.0000\n",
      "Epoch 201/500\n",
      "500/500 [==============================] - 5s 9ms/step - loss: 8.9549e-07 - acc: 1.0000\n",
      "Epoch 202/500\n",
      "500/500 [==============================] - 4s 9ms/step - loss: 1.0693e-07 - acc: 1.0000\n",
      "Epoch 203/500\n",
      "500/500 [==============================] - 4s 9ms/step - loss: 1.1141e-07 - acc: 1.0000\n",
      "Epoch 204/500\n",
      "500/500 [==============================] - 4s 9ms/step - loss: 4.9067e-07 - acc: 1.0000\n",
      "Epoch 205/500\n",
      "500/500 [==============================] - 4s 9ms/step - loss: 1.9563e-07 - acc: 1.0000\n",
      "Epoch 206/500\n",
      "500/500 [==============================] - 5s 9ms/step - loss: 1.1418e-07 - acc: 1.0000\n",
      "Epoch 207/500\n",
      "500/500 [==============================] - 4s 9ms/step - loss: 1.0903e-07 - acc: 1.0000\n",
      "Epoch 208/500\n",
      "500/500 [==============================] - 5s 9ms/step - loss: 1.4357e-07 - acc: 1.0000\n",
      "Epoch 209/500\n",
      "500/500 [==============================] - 5s 9ms/step - loss: 1.0200e-07 - acc: 1.0000\n",
      "Epoch 210/500\n",
      "500/500 [==============================] - 5s 9ms/step - loss: 1.0267e-07 - acc: 1.0000\n",
      "Epoch 211/500\n",
      "500/500 [==============================] - 5s 9ms/step - loss: 2.4575e-07 - acc: 1.0000\n",
      "Epoch 212/500\n",
      "500/500 [==============================] - 5s 9ms/step - loss: 1.9995e-07 - acc: 1.0000\n",
      "Epoch 213/500\n",
      "500/500 [==============================] - 5s 9ms/step - loss: 1.0341e-07 - acc: 1.0000\n",
      "Epoch 214/500\n",
      "500/500 [==============================] - 5s 10ms/step - loss: 1.0465e-07 - acc: 1.0000\n",
      "Epoch 215/500\n",
      "500/500 [==============================] - 5s 10ms/step - loss: 1.0202e-07 - acc: 1.0000\n",
      "Epoch 216/500\n",
      "500/500 [==============================] - 5s 10ms/step - loss: 1.0200e-07 - acc: 1.0000\n",
      "Epoch 217/500\n",
      "500/500 [==============================] - 5s 10ms/step - loss: 1.0253e-07 - acc: 1.0000\n",
      "Epoch 218/500\n",
      "500/500 [==============================] - 5s 10ms/step - loss: 1.0754e-07 - acc: 1.0000\n",
      "Epoch 219/500\n",
      "500/500 [==============================] - 5s 10ms/step - loss: 3.2850e-07 - acc: 1.0000\n",
      "Epoch 220/500\n",
      "500/500 [==============================] - 5s 10ms/step - loss: 1.0228e-07 - acc: 1.0000\n",
      "Epoch 221/500\n",
      "500/500 [==============================] - 5s 10ms/step - loss: 1.0224e-07 - acc: 1.0000\n",
      "Epoch 222/500\n",
      "500/500 [==============================] - 5s 10ms/step - loss: 1.0427e-07 - acc: 1.0000\n",
      "Epoch 223/500\n",
      "500/500 [==============================] - 5s 10ms/step - loss: 1.0527e-07 - acc: 1.0000\n",
      "Epoch 224/500\n",
      "500/500 [==============================] - 5s 10ms/step - loss: 1.0476e-07 - acc: 1.0000\n",
      "Epoch 225/500\n",
      "500/500 [==============================] - 5s 9ms/step - loss: 1.0344e-07 - acc: 1.0000\n",
      "Epoch 226/500\n",
      "500/500 [==============================] - 5s 9ms/step - loss: 1.0801e-07 - acc: 1.0000\n",
      "Epoch 227/500\n",
      "500/500 [==============================] - 5s 9ms/step - loss: 1.0802e-07 - acc: 1.0000\n",
      "Epoch 228/500\n",
      "500/500 [==============================] - 5s 9ms/step - loss: 1.0269e-07 - acc: 1.0000\n",
      "Epoch 229/500\n",
      "500/500 [==============================] - 5s 9ms/step - loss: 1.0376e-07 - acc: 1.0000\n",
      "Epoch 230/500\n",
      "500/500 [==============================] - 5s 9ms/step - loss: 1.0200e-07 - acc: 1.0000\n",
      "Epoch 231/500\n",
      "500/500 [==============================] - 5s 9ms/step - loss: 5.3990e-07 - acc: 1.0000\n",
      "Epoch 232/500\n",
      "500/500 [==============================] - 5s 10ms/step - loss: 1.0349e-07 - acc: 1.0000\n",
      "Epoch 233/500\n",
      "500/500 [==============================] - 5s 10ms/step - loss: 1.0259e-07 - acc: 1.0000\n",
      "Epoch 234/500\n",
      "500/500 [==============================] - 5s 10ms/step - loss: 1.2799e-07 - acc: 1.0000\n",
      "Epoch 235/500\n",
      "500/500 [==============================] - 5s 9ms/step - loss: 1.1107e-07 - acc: 1.0000\n",
      "Epoch 236/500\n",
      "500/500 [==============================] - 5s 9ms/step - loss: 1.2569e-07 - acc: 1.0000\n",
      "Epoch 237/500\n",
      "500/500 [==============================] - 5s 9ms/step - loss: 1.0271e-07 - acc: 1.0000\n",
      "Epoch 238/500\n",
      "500/500 [==============================] - 5s 9ms/step - loss: 1.1164e-07 - acc: 1.0000\n",
      "Epoch 239/500\n",
      "500/500 [==============================] - 5s 9ms/step - loss: 1.1155e-07 - acc: 1.0000\n",
      "Epoch 240/500\n",
      "500/500 [==============================] - 5s 9ms/step - loss: 1.0481e-07 - acc: 1.0000\n",
      "Epoch 241/500\n",
      "500/500 [==============================] - 5s 10ms/step - loss: 1.0601e-07 - acc: 1.0000\n",
      "Epoch 242/500\n",
      "500/500 [==============================] - 5s 10ms/step - loss: 1.0965e-07 - acc: 1.0000\n",
      "Epoch 243/500\n",
      "500/500 [==============================] - 5s 10ms/step - loss: 1.0200e-07 - acc: 1.0000\n",
      "Epoch 244/500\n",
      "500/500 [==============================] - 5s 10ms/step - loss: 1.0319e-07 - acc: 1.0000\n",
      "Epoch 245/500\n",
      "500/500 [==============================] - 5s 9ms/step - loss: 1.0491e-07 - acc: 1.0000\n",
      "Epoch 246/500\n",
      "500/500 [==============================] - 5s 10ms/step - loss: 1.2828e-07 - acc: 1.0000\n",
      "Epoch 247/500\n",
      "500/500 [==============================] - 5s 10ms/step - loss: 1.0200e-07 - acc: 1.0000\n",
      "Epoch 248/500\n",
      "500/500 [==============================] - 5s 10ms/step - loss: 1.0207e-07 - acc: 1.0000\n",
      "Epoch 249/500\n",
      "500/500 [==============================] - 5s 10ms/step - loss: 1.0614e-07 - acc: 1.0000\n",
      "Epoch 250/500\n",
      "500/500 [==============================] - 5s 10ms/step - loss: 1.0852e-07 - acc: 1.0000\n",
      "Epoch 251/500\n",
      "500/500 [==============================] - 5s 10ms/step - loss: 1.1151e-07 - acc: 1.0000\n",
      "Epoch 252/500\n",
      "500/500 [==============================] - 5s 10ms/step - loss: 1.0200e-07 - acc: 1.0000\n",
      "Epoch 253/500\n",
      "500/500 [==============================] - 5s 10ms/step - loss: 1.0577e-07 - acc: 1.0000\n",
      "Epoch 254/500\n",
      "500/500 [==============================] - 5s 10ms/step - loss: 1.0768e-07 - acc: 1.0000\n",
      "Epoch 255/500\n",
      "500/500 [==============================] - 5s 10ms/step - loss: 1.0355e-07 - acc: 1.0000\n",
      "Epoch 256/500\n",
      "500/500 [==============================] - 5s 10ms/step - loss: 1.0994e-07 - acc: 1.0000\n",
      "Epoch 257/500\n",
      "500/500 [==============================] - 5s 10ms/step - loss: 1.0200e-07 - acc: 1.0000\n",
      "Epoch 258/500\n",
      "500/500 [==============================] - 5s 10ms/step - loss: 1.1626e-07 - acc: 1.0000\n",
      "Epoch 259/500\n",
      "500/500 [==============================] - 5s 10ms/step - loss: 1.0475e-07 - acc: 1.0000\n",
      "Epoch 260/500\n",
      "500/500 [==============================] - 5s 10ms/step - loss: 1.0450e-07 - acc: 1.0000\n",
      "Epoch 261/500\n",
      "500/500 [==============================] - 5s 10ms/step - loss: 1.0224e-07 - acc: 1.0000\n",
      "Epoch 262/500\n",
      "500/500 [==============================] - 5s 10ms/step - loss: 1.0295e-07 - acc: 1.0000\n",
      "Epoch 263/500\n",
      "500/500 [==============================] - 5s 9ms/step - loss: 1.0349e-07 - acc: 1.0000\n",
      "Epoch 264/500\n",
      "500/500 [==============================] - 5s 9ms/step - loss: 1.0587e-07 - acc: 1.0000\n",
      "Epoch 265/500\n",
      "500/500 [==============================] - 5s 9ms/step - loss: 1.4349e-07 - acc: 1.0000\n",
      "Epoch 266/500\n",
      "500/500 [==============================] - 5s 9ms/step - loss: 1.0348e-07 - acc: 1.0000\n",
      "Epoch 267/500\n",
      "500/500 [==============================] - 5s 9ms/step - loss: 1.0295e-07 - acc: 1.0000\n",
      "Epoch 268/500\n",
      "500/500 [==============================] - 5s 9ms/step - loss: 1.0438e-07 - acc: 1.0000\n",
      "Epoch 269/500\n",
      "500/500 [==============================] - 5s 9ms/step - loss: 1.0200e-07 - acc: 1.0000\n",
      "Epoch 270/500\n",
      "500/500 [==============================] - 5s 9ms/step - loss: 1.0408e-07 - acc: 1.0000\n",
      "Epoch 271/500\n",
      "500/500 [==============================] - 5s 9ms/step - loss: 1.0235e-07 - acc: 1.0000\n",
      "Epoch 272/500\n",
      "500/500 [==============================] - 5s 9ms/step - loss: 1.0279e-07 - acc: 1.0000\n",
      "Epoch 273/500\n",
      "500/500 [==============================] - 5s 9ms/step - loss: 1.1172e-07 - acc: 1.0000\n",
      "Epoch 274/500\n",
      "500/500 [==============================] - 5s 9ms/step - loss: 1.0239e-07 - acc: 1.0000\n",
      "Epoch 275/500\n",
      "500/500 [==============================] - 5s 9ms/step - loss: 1.1491e-07 - acc: 1.0000\n",
      "Epoch 276/500\n",
      "500/500 [==============================] - 5s 9ms/step - loss: 1.0292e-07 - acc: 1.0000\n",
      "Epoch 277/500\n",
      "500/500 [==============================] - 5s 9ms/step - loss: 1.2743e-07 - acc: 1.0000\n",
      "Epoch 278/500\n",
      "500/500 [==============================] - 5s 9ms/step - loss: 1.0923e-07 - acc: 1.0000\n",
      "Epoch 279/500\n",
      "500/500 [==============================] - 5s 9ms/step - loss: 1.0451e-07 - acc: 1.0000\n",
      "Epoch 280/500\n",
      "500/500 [==============================] - 5s 9ms/step - loss: 1.0620e-07 - acc: 1.0000\n",
      "Epoch 281/500\n",
      "500/500 [==============================] - 5s 9ms/step - loss: 1.0716e-07 - acc: 1.0000\n",
      "Epoch 282/500\n",
      "500/500 [==============================] - 5s 9ms/step - loss: 1.0416e-07 - acc: 1.0000\n",
      "Epoch 283/500\n",
      "500/500 [==============================] - 5s 9ms/step - loss: 1.0494e-07 - acc: 1.0000\n",
      "Epoch 284/500\n",
      "500/500 [==============================] - 5s 9ms/step - loss: 1.0200e-07 - acc: 1.0000\n",
      "Epoch 285/500\n",
      "500/500 [==============================] - 5s 9ms/step - loss: 1.1931e-07 - acc: 1.0000\n",
      "Epoch 286/500\n",
      "500/500 [==============================] - 5s 9ms/step - loss: 1.0307e-07 - acc: 1.0000\n",
      "Epoch 287/500\n",
      "500/500 [==============================] - 5s 9ms/step - loss: 1.0414e-07 - acc: 1.0000\n",
      "Epoch 288/500\n",
      "500/500 [==============================] - 5s 9ms/step - loss: 2.0713e-07 - acc: 1.0000\n",
      "Epoch 289/500\n",
      "500/500 [==============================] - 5s 9ms/step - loss: 1.0200e-07 - acc: 1.0000\n",
      "Epoch 290/500\n",
      "500/500 [==============================] - 5s 9ms/step - loss: 1.0700e-07 - acc: 1.0000\n",
      "Epoch 291/500\n",
      "500/500 [==============================] - 5s 10ms/step - loss: 1.0796e-07 - acc: 1.0000\n",
      "Epoch 292/500\n",
      "500/500 [==============================] - 5s 10ms/step - loss: 1.0207e-07 - acc: 1.0000\n",
      "Epoch 293/500\n",
      "500/500 [==============================] - 5s 10ms/step - loss: 1.1741e-07 - acc: 1.0000\n",
      "Epoch 294/500\n",
      "500/500 [==============================] - 5s 10ms/step - loss: 1.0637e-07 - acc: 1.0000\n",
      "Epoch 295/500\n",
      "500/500 [==============================] - 5s 10ms/step - loss: 1.0266e-07 - acc: 1.0000\n",
      "Epoch 296/500\n",
      "500/500 [==============================] - 5s 9ms/step - loss: 1.0271e-07 - acc: 1.0000\n",
      "Epoch 297/500\n",
      "500/500 [==============================] - 5s 10ms/step - loss: 1.0383e-07 - acc: 1.0000\n",
      "Epoch 298/500\n",
      "500/500 [==============================] - 5s 10ms/step - loss: 1.0712e-07 - acc: 1.0000\n",
      "Epoch 299/500\n",
      "500/500 [==============================] - 5s 10ms/step - loss: 1.9381e-07 - acc: 1.0000\n",
      "Epoch 300/500\n",
      "500/500 [==============================] - 5s 9ms/step - loss: 1.0338e-07 - acc: 1.0000\n",
      "Epoch 301/500\n",
      "500/500 [==============================] - 5s 9ms/step - loss: 1.0736e-07 - acc: 1.0000\n",
      "Epoch 302/500\n",
      "500/500 [==============================] - 5s 9ms/step - loss: 1.0420e-07 - acc: 1.0000\n",
      "Epoch 303/500\n",
      "500/500 [==============================] - 5s 9ms/step - loss: 1.0200e-07 - acc: 1.0000\n",
      "Epoch 304/500\n",
      "500/500 [==============================] - 5s 9ms/step - loss: 1.0379e-07 - acc: 1.0000\n",
      "Epoch 305/500\n",
      "500/500 [==============================] - 5s 9ms/step - loss: 1.0200e-07 - acc: 1.0000\n",
      "Epoch 306/500\n",
      "500/500 [==============================] - 5s 9ms/step - loss: 1.1084e-07 - acc: 1.0000\n",
      "Epoch 307/500\n",
      "500/500 [==============================] - 5s 9ms/step - loss: 5.1745e-07 - acc: 1.0000\n",
      "Epoch 308/500\n",
      "500/500 [==============================] - 5s 10ms/step - loss: 1.0200e-07 - acc: 1.0000\n",
      "Epoch 309/500\n",
      "500/500 [==============================] - 5s 10ms/step - loss: 1.0229e-07 - acc: 1.0000\n",
      "Epoch 310/500\n",
      "500/500 [==============================] - 5s 10ms/step - loss: 1.0493e-07 - acc: 1.0000\n",
      "Epoch 311/500\n",
      "500/500 [==============================] - 5s 9ms/step - loss: 1.2265e-07 - acc: 1.0000\n",
      "Epoch 312/500\n",
      "500/500 [==============================] - 5s 9ms/step - loss: 1.1349e-07 - acc: 1.0000\n",
      "Epoch 313/500\n",
      "500/500 [==============================] - 5s 9ms/step - loss: 1.0235e-07 - acc: 1.0000\n",
      "Epoch 314/500\n",
      "500/500 [==============================] - 5s 9ms/step - loss: 1.4254e-07 - acc: 1.0000\n",
      "Epoch 315/500\n",
      "500/500 [==============================] - 5s 9ms/step - loss: 1.0200e-07 - acc: 1.0000\n",
      "Epoch 316/500\n",
      "500/500 [==============================] - 5s 9ms/step - loss: 1.5543e-07 - acc: 1.0000\n",
      "Epoch 317/500\n",
      "500/500 [==============================] - 5s 9ms/step - loss: 1.0211e-07 - acc: 1.0000\n",
      "Epoch 318/500\n",
      "500/500 [==============================] - 5s 9ms/step - loss: 1.0937e-07 - acc: 1.0000\n",
      "Epoch 319/500\n",
      "500/500 [==============================] - 5s 9ms/step - loss: 1.0237e-07 - acc: 1.0000\n",
      "Epoch 320/500\n"
     ]
    },
    {
     "name": "stdout",
     "output_type": "stream",
     "text": [
      "500/500 [==============================] - 5s 9ms/step - loss: 1.0560e-07 - acc: 1.0000\n",
      "Epoch 321/500\n",
      "500/500 [==============================] - 5s 9ms/step - loss: 1.1231e-07 - acc: 1.0000\n",
      "Epoch 322/500\n",
      "500/500 [==============================] - 5s 9ms/step - loss: 1.0200e-07 - acc: 1.0000\n",
      "Epoch 323/500\n",
      "500/500 [==============================] - 5s 9ms/step - loss: 1.0627e-07 - acc: 1.0000\n",
      "Epoch 324/500\n",
      "500/500 [==============================] - 5s 9ms/step - loss: 1.0247e-07 - acc: 1.0000\n",
      "Epoch 325/500\n",
      "500/500 [==============================] - 5s 9ms/step - loss: 1.0286e-07 - acc: 1.0000\n",
      "Epoch 326/500\n",
      "500/500 [==============================] - 5s 9ms/step - loss: 1.0267e-07 - acc: 1.0000\n",
      "Epoch 327/500\n",
      "500/500 [==============================] - 5s 9ms/step - loss: 1.0247e-07 - acc: 1.0000\n",
      "Epoch 328/500\n",
      "500/500 [==============================] - 5s 9ms/step - loss: 1.0331e-07 - acc: 1.0000\n",
      "Epoch 329/500\n",
      "500/500 [==============================] - 5s 10ms/step - loss: 1.1199e-07 - acc: 1.0000\n",
      "Epoch 330/500\n",
      "500/500 [==============================] - 5s 10ms/step - loss: 1.0200e-07 - acc: 1.0000\n",
      "Epoch 331/500\n",
      "500/500 [==============================] - 5s 10ms/step - loss: 1.2830e-07 - acc: 1.0000\n",
      "Epoch 332/500\n",
      "500/500 [==============================] - 5s 10ms/step - loss: 1.0201e-07 - acc: 1.0000\n",
      "Epoch 333/500\n",
      "500/500 [==============================] - 5s 10ms/step - loss: 1.0200e-07 - acc: 1.0000\n",
      "Epoch 334/500\n",
      "500/500 [==============================] - 5s 10ms/step - loss: 1.0200e-07 - acc: 1.0000\n",
      "Epoch 335/500\n",
      "500/500 [==============================] - 5s 10ms/step - loss: 1.0341e-07 - acc: 1.0000\n",
      "Epoch 336/500\n",
      "500/500 [==============================] - 5s 10ms/step - loss: 1.0649e-07 - acc: 1.0000\n",
      "Epoch 337/500\n",
      "500/500 [==============================] - 5s 10ms/step - loss: 1.0335e-07 - acc: 1.0000\n",
      "Epoch 338/500\n",
      "500/500 [==============================] - 5s 10ms/step - loss: 1.0462e-07 - acc: 1.0000\n",
      "Epoch 339/500\n",
      "500/500 [==============================] - 5s 10ms/step - loss: 1.0200e-07 - acc: 1.0000\n",
      "Epoch 340/500\n",
      "500/500 [==============================] - 5s 10ms/step - loss: 2.5571e-07 - acc: 1.0000\n",
      "Epoch 341/500\n",
      "500/500 [==============================] - 5s 10ms/step - loss: 1.3013e-07 - acc: 1.0000\n",
      "Epoch 342/500\n",
      "500/500 [==============================] - 5s 10ms/step - loss: 1.0200e-07 - acc: 1.0000\n",
      "Epoch 343/500\n",
      "500/500 [==============================] - 5s 10ms/step - loss: 1.0200e-07 - acc: 1.0000\n",
      "Epoch 344/500\n",
      "500/500 [==============================] - 5s 10ms/step - loss: 1.0200e-07 - acc: 1.0000\n",
      "Epoch 345/500\n",
      "500/500 [==============================] - 5s 10ms/step - loss: 1.0560e-07 - acc: 1.0000\n",
      "Epoch 346/500\n",
      "500/500 [==============================] - 5s 10ms/step - loss: 1.0438e-07 - acc: 1.0000\n",
      "Epoch 347/500\n",
      "500/500 [==============================] - 5s 10ms/step - loss: 1.0202e-07 - acc: 1.0000\n",
      "Epoch 348/500\n",
      "500/500 [==============================] - 5s 10ms/step - loss: 1.0200e-07 - acc: 1.0000\n",
      "Epoch 349/500\n",
      "500/500 [==============================] - 5s 10ms/step - loss: 1.0200e-07 - acc: 1.0000\n",
      "Epoch 350/500\n",
      "500/500 [==============================] - 5s 10ms/step - loss: 1.0418e-07 - acc: 1.0000\n",
      "Epoch 351/500\n",
      "500/500 [==============================] - 5s 10ms/step - loss: 1.0200e-07 - acc: 1.0000\n",
      "Epoch 352/500\n",
      "500/500 [==============================] - 5s 10ms/step - loss: 1.0529e-07 - acc: 1.0000\n",
      "Epoch 353/500\n",
      "500/500 [==============================] - 5s 10ms/step - loss: 1.0341e-07 - acc: 1.0000\n",
      "Epoch 354/500\n",
      "500/500 [==============================] - 5s 10ms/step - loss: 1.0200e-07 - acc: 1.0000\n",
      "Epoch 355/500\n",
      "500/500 [==============================] - 5s 10ms/step - loss: 1.0200e-07 - acc: 1.0000\n",
      "Epoch 356/500\n",
      "500/500 [==============================] - 5s 10ms/step - loss: 1.0383e-07 - acc: 1.0000\n",
      "Epoch 357/500\n",
      "500/500 [==============================] - 5s 10ms/step - loss: 1.0220e-07 - acc: 1.0000\n",
      "Epoch 358/500\n",
      "500/500 [==============================] - 5s 10ms/step - loss: 1.0200e-07 - acc: 1.0000\n",
      "Epoch 359/500\n",
      "500/500 [==============================] - 5s 10ms/step - loss: 1.0232e-07 - acc: 1.0000\n",
      "Epoch 360/500\n",
      "500/500 [==============================] - 5s 10ms/step - loss: 1.0230e-07 - acc: 1.0000\n",
      "Epoch 361/500\n",
      "500/500 [==============================] - 5s 10ms/step - loss: 1.0272e-07 - acc: 1.0000\n",
      "Epoch 362/500\n",
      "500/500 [==============================] - 5s 10ms/step - loss: 1.0200e-07 - acc: 1.0000\n",
      "Epoch 363/500\n",
      "500/500 [==============================] - 5s 10ms/step - loss: 1.0200e-07 - acc: 1.0000\n",
      "Epoch 364/500\n",
      "500/500 [==============================] - 5s 10ms/step - loss: 1.0202e-07 - acc: 1.0000\n",
      "Epoch 365/500\n",
      "500/500 [==============================] - 5s 10ms/step - loss: 1.0200e-07 - acc: 1.0000\n",
      "Epoch 366/500\n",
      "500/500 [==============================] - 5s 10ms/step - loss: 1.0200e-07 - acc: 1.0000\n",
      "Epoch 367/500\n",
      "500/500 [==============================] - 5s 10ms/step - loss: 1.7865e-07 - acc: 1.0000\n",
      "Epoch 368/500\n",
      "500/500 [==============================] - 5s 10ms/step - loss: 1.0203e-07 - acc: 1.0000\n",
      "Epoch 369/500\n",
      "500/500 [==============================] - 5s 10ms/step - loss: 1.0259e-07 - acc: 1.0000\n",
      "Epoch 370/500\n",
      "500/500 [==============================] - 5s 10ms/step - loss: 1.1367e-07 - acc: 1.0000\n",
      "Epoch 371/500\n",
      "500/500 [==============================] - 5s 10ms/step - loss: 1.0200e-07 - acc: 1.0000\n",
      "Epoch 372/500\n",
      "500/500 [==============================] - 5s 10ms/step - loss: 1.0224e-07 - acc: 1.0000\n",
      "Epoch 373/500\n",
      "500/500 [==============================] - 5s 10ms/step - loss: 1.0200e-07 - acc: 1.0000\n",
      "Epoch 374/500\n",
      "500/500 [==============================] - 5s 10ms/step - loss: 1.0312e-07 - acc: 1.0000\n",
      "Epoch 375/500\n",
      "500/500 [==============================] - 5s 10ms/step - loss: 1.2286e-07 - acc: 1.0000\n",
      "Epoch 376/500\n",
      "500/500 [==============================] - 5s 10ms/step - loss: 1.0207e-07 - acc: 1.0000\n",
      "Epoch 377/500\n",
      "500/500 [==============================] - 5s 10ms/step - loss: 1.0672e-07 - acc: 1.0000\n",
      "Epoch 378/500\n",
      "500/500 [==============================] - 5s 10ms/step - loss: 1.0442e-07 - acc: 1.0000\n",
      "Epoch 379/500\n",
      "500/500 [==============================] - 5s 10ms/step - loss: 1.2542e-07 - acc: 1.0000\n",
      "Epoch 380/500\n",
      "500/500 [==============================] - 5s 10ms/step - loss: 1.0200e-07 - acc: 1.0000\n",
      "Epoch 381/500\n",
      "500/500 [==============================] - 5s 10ms/step - loss: 1.0614e-07 - acc: 1.0000\n",
      "Epoch 382/500\n",
      "500/500 [==============================] - 5s 10ms/step - loss: 1.0332e-07 - acc: 1.0000\n",
      "Epoch 383/500\n",
      "500/500 [==============================] - 5s 10ms/step - loss: 1.0247e-07 - acc: 1.0000\n",
      "Epoch 384/500\n",
      "500/500 [==============================] - 5s 10ms/step - loss: 1.2438e-07 - acc: 1.0000\n",
      "Epoch 385/500\n",
      "500/500 [==============================] - 5s 10ms/step - loss: 1.0200e-07 - acc: 1.0000\n",
      "Epoch 386/500\n",
      "500/500 [==============================] - 5s 10ms/step - loss: 1.0212e-07 - acc: 1.0000\n",
      "Epoch 387/500\n",
      "500/500 [==============================] - 5s 10ms/step - loss: 1.0200e-07 - acc: 1.0000\n",
      "Epoch 388/500\n",
      "500/500 [==============================] - 5s 10ms/step - loss: 1.0200e-07 - acc: 1.0000\n",
      "Epoch 389/500\n",
      "500/500 [==============================] - 5s 10ms/step - loss: 1.0239e-07 - acc: 1.0000\n",
      "Epoch 390/500\n",
      "500/500 [==============================] - 5s 10ms/step - loss: 1.0319e-07 - acc: 1.0000\n",
      "Epoch 391/500\n",
      "500/500 [==============================] - 5s 10ms/step - loss: 1.0205e-07 - acc: 1.0000\n",
      "Epoch 392/500\n",
      "500/500 [==============================] - 5s 10ms/step - loss: 1.1689e-07 - acc: 1.0000\n",
      "Epoch 393/500\n",
      "500/500 [==============================] - 5s 10ms/step - loss: 1.0218e-07 - acc: 1.0000\n",
      "Epoch 394/500\n",
      "500/500 [==============================] - 5s 10ms/step - loss: 1.0338e-07 - acc: 1.0000\n",
      "Epoch 395/500\n",
      "500/500 [==============================] - 5s 10ms/step - loss: 1.0200e-07 - acc: 1.0000\n",
      "Epoch 396/500\n",
      "500/500 [==============================] - 5s 10ms/step - loss: 1.0361e-07 - acc: 1.0000\n",
      "Epoch 397/500\n",
      "500/500 [==============================] - 5s 9ms/step - loss: 1.0200e-07 - acc: 1.0000\n",
      "Epoch 398/500\n",
      "500/500 [==============================] - 5s 9ms/step - loss: 1.0414e-07 - acc: 1.0000\n",
      "Epoch 399/500\n",
      "500/500 [==============================] - 5s 9ms/step - loss: 1.0506e-07 - acc: 1.0000\n",
      "Epoch 400/500\n",
      "500/500 [==============================] - 5s 9ms/step - loss: 1.0200e-07 - acc: 1.0000\n",
      "Epoch 401/500\n",
      "500/500 [==============================] - 5s 9ms/step - loss: 1.0200e-07 - acc: 1.0000\n",
      "Epoch 402/500\n",
      "500/500 [==============================] - 5s 9ms/step - loss: 1.0674e-07 - acc: 1.0000\n",
      "Epoch 403/500\n",
      "500/500 [==============================] - 5s 9ms/step - loss: 1.0411e-07 - acc: 1.0000\n",
      "Epoch 404/500\n",
      "500/500 [==============================] - 5s 9ms/step - loss: 1.0200e-07 - acc: 1.0000\n",
      "Epoch 405/500\n",
      "500/500 [==============================] - 5s 9ms/step - loss: 1.0656e-07 - acc: 1.0000\n",
      "Epoch 406/500\n",
      "500/500 [==============================] - 5s 9ms/step - loss: 1.2923e-07 - acc: 1.0000\n",
      "Epoch 407/500\n",
      "500/500 [==============================] - 5s 9ms/step - loss: 1.0200e-07 - acc: 1.0000\n",
      "Epoch 408/500\n",
      "500/500 [==============================] - 5s 10ms/step - loss: 1.0200e-07 - acc: 1.0000\n",
      "Epoch 409/500\n",
      "500/500 [==============================] - 5s 10ms/step - loss: 1.0200e-07 - acc: 1.0000\n",
      "Epoch 410/500\n",
      "500/500 [==============================] - 5s 9ms/step - loss: 1.0424e-07 - acc: 1.0000\n",
      "Epoch 411/500\n",
      "500/500 [==============================] - 5s 10ms/step - loss: 1.0200e-07 - acc: 1.0000\n",
      "Epoch 412/500\n",
      "500/500 [==============================] - 5s 9ms/step - loss: 1.0200e-07 - acc: 1.0000\n",
      "Epoch 413/500\n",
      "500/500 [==============================] - 5s 9ms/step - loss: 1.0270e-07 - acc: 1.0000\n",
      "Epoch 414/500\n",
      "500/500 [==============================] - 5s 9ms/step - loss: 1.0200e-07 - acc: 1.0000\n",
      "Epoch 415/500\n",
      "500/500 [==============================] - 5s 9ms/step - loss: 1.0200e-07 - acc: 1.0000\n",
      "Epoch 416/500\n",
      "500/500 [==============================] - 5s 9ms/step - loss: 1.0237e-07 - acc: 1.0000\n",
      "Epoch 417/500\n",
      "500/500 [==============================] - 5s 10ms/step - loss: 1.0923e-07 - acc: 1.0000\n",
      "Epoch 418/500\n",
      "500/500 [==============================] - 5s 10ms/step - loss: 1.0200e-07 - acc: 1.0000\n",
      "Epoch 419/500\n",
      "500/500 [==============================] - 5s 10ms/step - loss: 1.0200e-07 - acc: 1.0000\n",
      "Epoch 420/500\n",
      "500/500 [==============================] - 5s 10ms/step - loss: 1.1899e-07 - acc: 1.0000\n",
      "Epoch 421/500\n",
      "500/500 [==============================] - 5s 10ms/step - loss: 1.0200e-07 - acc: 1.0000\n",
      "Epoch 422/500\n",
      "500/500 [==============================] - 5s 10ms/step - loss: 1.0200e-07 - acc: 1.0000\n",
      "Epoch 423/500\n",
      "500/500 [==============================] - 5s 10ms/step - loss: 1.5010e-07 - acc: 1.0000\n",
      "Epoch 424/500\n",
      "500/500 [==============================] - 5s 10ms/step - loss: 1.0296e-07 - acc: 1.0000\n",
      "Epoch 425/500\n",
      "500/500 [==============================] - 5s 10ms/step - loss: 1.0200e-07 - acc: 1.0000\n",
      "Epoch 426/500\n",
      "500/500 [==============================] - 5s 10ms/step - loss: 1.0463e-07 - acc: 1.0000\n",
      "Epoch 427/500\n",
      "500/500 [==============================] - 5s 10ms/step - loss: 1.0313e-07 - acc: 1.0000\n",
      "Epoch 428/500\n",
      "500/500 [==============================] - 5s 10ms/step - loss: 1.0200e-07 - acc: 1.0000\n",
      "Epoch 429/500\n",
      "500/500 [==============================] - 5s 10ms/step - loss: 1.0200e-07 - acc: 1.0000\n",
      "Epoch 430/500\n",
      "500/500 [==============================] - 5s 11ms/step - loss: 1.0200e-07 - acc: 1.0000\n",
      "Epoch 431/500\n",
      "500/500 [==============================] - 5s 11ms/step - loss: 1.0200e-07 - acc: 1.0000\n",
      "Epoch 432/500\n",
      "500/500 [==============================] - 5s 11ms/step - loss: 1.0456e-07 - acc: 1.0000\n",
      "Epoch 433/500\n",
      "500/500 [==============================] - 5s 11ms/step - loss: 1.0307e-07 - acc: 1.0000\n",
      "Epoch 434/500\n",
      "500/500 [==============================] - 5s 11ms/step - loss: 1.0200e-07 - acc: 1.0000\n",
      "Epoch 435/500\n",
      "500/500 [==============================] - 5s 11ms/step - loss: 1.0414e-07 - acc: 1.0000\n",
      "Epoch 436/500\n",
      "500/500 [==============================] - 5s 11ms/step - loss: 1.5982e-07 - acc: 1.0000\n",
      "Epoch 437/500\n",
      "500/500 [==============================] - 5s 10ms/step - loss: 1.0222e-07 - acc: 1.0000\n",
      "Epoch 438/500\n",
      "500/500 [==============================] - 5s 10ms/step - loss: 1.0200e-07 - acc: 1.0000\n",
      "Epoch 439/500\n",
      "500/500 [==============================] - 5s 10ms/step - loss: 1.0236e-07 - acc: 1.0000\n",
      "Epoch 440/500\n",
      "500/500 [==============================] - 5s 10ms/step - loss: 1.0200e-07 - acc: 1.0000\n",
      "Epoch 441/500\n",
      "500/500 [==============================] - 5s 10ms/step - loss: 1.0810e-07 - acc: 1.0000\n",
      "Epoch 442/500\n",
      "500/500 [==============================] - 5s 10ms/step - loss: 1.0200e-07 - acc: 1.0000\n",
      "Epoch 443/500\n",
      "500/500 [==============================] - 5s 11ms/step - loss: 1.1226e-07 - acc: 1.0000\n",
      "Epoch 444/500\n",
      "500/500 [==============================] - 5s 11ms/step - loss: 1.0200e-07 - acc: 1.0000\n",
      "Epoch 445/500\n",
      "500/500 [==============================] - 5s 11ms/step - loss: 1.0200e-07 - acc: 1.0000\n",
      "Epoch 446/500\n",
      "500/500 [==============================] - 5s 11ms/step - loss: 1.1702e-07 - acc: 1.0000\n",
      "Epoch 447/500\n",
      "500/500 [==============================] - 5s 11ms/step - loss: 1.2453e-07 - acc: 1.0000\n",
      "Epoch 448/500\n",
      "500/500 [==============================] - 5s 11ms/step - loss: 1.0200e-07 - acc: 1.0000\n",
      "Epoch 449/500\n",
      "500/500 [==============================] - 5s 11ms/step - loss: 1.0203e-07 - acc: 1.0000\n",
      "Epoch 450/500\n",
      "500/500 [==============================] - 5s 10ms/step - loss: 1.0200e-07 - acc: 1.0000\n",
      "Epoch 451/500\n",
      "500/500 [==============================] - 5s 10ms/step - loss: 1.0200e-07 - acc: 1.0000\n",
      "Epoch 452/500\n",
      "500/500 [==============================] - 5s 10ms/step - loss: 1.0200e-07 - acc: 1.0000\n",
      "Epoch 453/500\n",
      "500/500 [==============================] - 5s 10ms/step - loss: 1.0631e-07 - acc: 1.0000\n",
      "Epoch 454/500\n",
      "500/500 [==============================] - 5s 10ms/step - loss: 1.0304e-07 - acc: 1.0000\n",
      "Epoch 455/500\n",
      "500/500 [==============================] - 5s 10ms/step - loss: 1.0236e-07 - acc: 1.0000\n",
      "Epoch 456/500\n",
      "500/500 [==============================] - 5s 10ms/step - loss: 1.0200e-07 - acc: 1.0000\n",
      "Epoch 457/500\n",
      "500/500 [==============================] - 5s 10ms/step - loss: 1.0216e-07 - acc: 1.0000\n",
      "Epoch 458/500\n",
      "500/500 [==============================] - 5s 10ms/step - loss: 1.0212e-07 - acc: 1.0000\n",
      "Epoch 459/500\n",
      "500/500 [==============================] - 5s 10ms/step - loss: 1.0319e-07 - acc: 1.0000\n",
      "Epoch 460/500\n",
      "500/500 [==============================] - 5s 10ms/step - loss: 1.0200e-07 - acc: 1.0000\n",
      "Epoch 461/500\n",
      "500/500 [==============================] - 5s 10ms/step - loss: 1.0200e-07 - acc: 1.0000\n",
      "Epoch 462/500\n",
      "500/500 [==============================] - 5s 11ms/step - loss: 1.0200e-07 - acc: 1.0000\n",
      "Epoch 463/500\n",
      "500/500 [==============================] - 5s 11ms/step - loss: 1.0200e-07 - acc: 1.0000\n",
      "Epoch 464/500\n",
      "500/500 [==============================] - 5s 11ms/step - loss: 1.0200e-07 - acc: 1.0000\n",
      "Epoch 465/500\n",
      "500/500 [==============================] - 5s 11ms/step - loss: 1.0200e-07 - acc: 1.0000\n",
      "Epoch 466/500\n",
      "500/500 [==============================] - 5s 11ms/step - loss: 1.0200e-07 - acc: 1.0000\n",
      "Epoch 467/500\n",
      "500/500 [==============================] - 5s 11ms/step - loss: 1.1440e-07 - acc: 1.0000\n",
      "Epoch 468/500\n",
      "500/500 [==============================] - 5s 11ms/step - loss: 1.0200e-07 - acc: 1.0000\n",
      "Epoch 469/500\n",
      "500/500 [==============================] - 5s 10ms/step - loss: 1.0200e-07 - acc: 1.0000\n",
      "Epoch 470/500\n",
      "500/500 [==============================] - 5s 10ms/step - loss: 1.0200e-07 - acc: 1.0000\n",
      "Epoch 471/500\n",
      "500/500 [==============================] - 5s 11ms/step - loss: 1.0200e-07 - acc: 1.0000\n",
      "Epoch 472/500\n",
      "500/500 [==============================] - 5s 10ms/step - loss: 1.0200e-07 - acc: 1.0000\n",
      "Epoch 473/500\n",
      "500/500 [==============================] - 5s 10ms/step - loss: 1.0226e-07 - acc: 1.0000\n",
      "Epoch 474/500\n",
      "500/500 [==============================] - 5s 10ms/step - loss: 1.4787e-07 - acc: 1.0000\n",
      "Epoch 475/500\n",
      "500/500 [==============================] - 5s 11ms/step - loss: 1.0200e-07 - acc: 1.0000\n",
      "Epoch 476/500\n",
      "500/500 [==============================] - 6s 11ms/step - loss: 1.0200e-07 - acc: 1.0000\n",
      "Epoch 477/500\n",
      "500/500 [==============================] - 6s 11ms/step - loss: 3.6168e-07 - acc: 1.0000\n",
      "Epoch 478/500\n"
     ]
    },
    {
     "name": "stdout",
     "output_type": "stream",
     "text": [
      "500/500 [==============================] - 6s 11ms/step - loss: 1.0200e-07 - acc: 1.0000\n",
      "Epoch 479/500\n",
      "500/500 [==============================] - 6s 11ms/step - loss: 1.0200e-07 - acc: 1.0000\n",
      "Epoch 480/500\n",
      "500/500 [==============================] - 6s 11ms/step - loss: 1.0343e-07 - acc: 1.0000\n",
      "Epoch 481/500\n",
      "500/500 [==============================] - 6s 11ms/step - loss: 1.0200e-07 - acc: 1.0000\n",
      "Epoch 482/500\n",
      "500/500 [==============================] - 6s 11ms/step - loss: 1.0200e-07 - acc: 1.0000\n",
      "Epoch 483/500\n",
      "500/500 [==============================] - 5s 11ms/step - loss: 1.0200e-07 - acc: 1.0000\n",
      "Epoch 484/500\n",
      "500/500 [==============================] - 5s 11ms/step - loss: 1.6676e-07 - acc: 1.0000\n",
      "Epoch 485/500\n",
      "500/500 [==============================] - 5s 11ms/step - loss: 1.0206e-07 - acc: 1.0000\n",
      "Epoch 486/500\n",
      "500/500 [==============================] - 5s 11ms/step - loss: 1.0200e-07 - acc: 1.0000\n",
      "Epoch 487/500\n",
      "500/500 [==============================] - 5s 11ms/step - loss: 2.0171e-07 - acc: 1.0000\n",
      "Epoch 488/500\n",
      "500/500 [==============================] - 5s 11ms/step - loss: 1.0200e-07 - acc: 1.0000\n",
      "Epoch 489/500\n",
      "500/500 [==============================] - 5s 11ms/step - loss: 1.0319e-07 - acc: 1.0000\n",
      "Epoch 490/500\n",
      "500/500 [==============================] - 5s 11ms/step - loss: 1.0200e-07 - acc: 1.0000\n",
      "Epoch 491/500\n",
      "500/500 [==============================] - 5s 11ms/step - loss: 1.0367e-07 - acc: 1.0000\n",
      "Epoch 492/500\n",
      "500/500 [==============================] - 5s 11ms/step - loss: 1.0200e-07 - acc: 1.0000\n",
      "Epoch 493/500\n",
      "500/500 [==============================] - 5s 11ms/step - loss: 1.0200e-07 - acc: 1.0000\n",
      "Epoch 494/500\n",
      "500/500 [==============================] - 5s 11ms/step - loss: 1.0200e-07 - acc: 1.0000\n",
      "Epoch 495/500\n",
      "500/500 [==============================] - 5s 11ms/step - loss: 1.0200e-07 - acc: 1.0000\n",
      "Epoch 496/500\n",
      "500/500 [==============================] - 5s 11ms/step - loss: 1.0200e-07 - acc: 1.0000\n",
      "Epoch 497/500\n",
      "500/500 [==============================] - 5s 11ms/step - loss: 1.0595e-07 - acc: 1.0000\n",
      "Epoch 498/500\n",
      "500/500 [==============================] - 5s 11ms/step - loss: 1.0200e-07 - acc: 1.0000\n",
      "Epoch 499/500\n",
      "500/500 [==============================] - 5s 11ms/step - loss: 1.0466e-07 - acc: 1.0000\n",
      "Epoch 500/500\n",
      "500/500 [==============================] - 5s 10ms/step - loss: 1.0427e-07 - acc: 1.0000\n"
     ]
    },
    {
     "data": {
      "text/plain": [
       "<keras.callbacks.History at 0x11601278>"
      ]
     },
     "execution_count": 41,
     "metadata": {},
     "output_type": "execute_result"
    }
   ],
   "source": [
    "model.fit(X_trainvect, y_train, epochs=500, batch_size=25, verbose=1)"
   ]
  },
  {
   "cell_type": "markdown",
   "metadata": {},
   "source": [
    "## Evaluate the model accuracy"
   ]
  },
  {
   "cell_type": "code",
   "execution_count": 46,
   "metadata": {},
   "outputs": [
    {
     "name": "stdout",
     "output_type": "stream",
     "text": [
      "125/125 [==============================] - 0s 81us/step\n",
      "acc: 94.40%\n"
     ]
    }
   ],
   "source": [
    "scores = model.evaluate(X_testvect, y_test, verbose=1)\n",
    "print(\"%s: %.2f%%\" % (model.metrics_names[1], scores[1]*100))"
   ]
  },
  {
   "cell_type": "markdown",
   "metadata": {},
   "source": [
    "The Deep Neural Network has out peformed the SVM"
   ]
  },
  {
   "cell_type": "markdown",
   "metadata": {},
   "source": [
    "## Calculate the F1 Score"
   ]
  },
  {
   "cell_type": "code",
   "execution_count": 47,
   "metadata": {
    "collapsed": true
   },
   "outputs": [],
   "source": [
    "dnn_pred = model.predict_classes(X_testvect)"
   ]
  },
  {
   "cell_type": "code",
   "execution_count": 48,
   "metadata": {},
   "outputs": [
    {
     "name": "stdout",
     "output_type": "stream",
     "text": [
      "F1 score: 0.67\n"
     ]
    }
   ],
   "source": [
    "# f1 score\n",
    "score_f1 = f1_score(y_test, dnn_pred)\n",
    "\n",
    "# print\n",
    "print(\"F1 score: {:.2f}\".format(score_f1))"
   ]
  },
  {
   "cell_type": "code",
   "execution_count": null,
   "metadata": {
    "collapsed": true
   },
   "outputs": [],
   "source": []
  }
 ],
 "metadata": {
  "kernelspec": {
   "display_name": "Python 3",
   "language": "python",
   "name": "python3"
  },
  "language_info": {
   "codemirror_mode": {
    "name": "ipython",
    "version": 3
   },
   "file_extension": ".py",
   "mimetype": "text/x-python",
   "name": "python",
   "nbconvert_exporter": "python",
   "pygments_lexer": "ipython3",
   "version": "3.6.8"
  },
  "nbpresent": {
   "slides": {
    "01ecd8bd-d5c8-42cb-9df3-c0b59a093cfd": {
     "id": "01ecd8bd-d5c8-42cb-9df3-c0b59a093cfd",
     "prev": "db263a8b-83a9-4f45-91e7-82dd11e876e9",
     "regions": {
      "f7a63f11-4d7e-406e-858a-733fda272f40": {
       "attrs": {
        "height": 0.8,
        "width": 0.8,
        "x": 0.1,
        "y": 0.1
       },
       "content": {
        "cell": "75763160-5a0c-4d01-a98e-bf70d583d6c9",
        "part": "whole"
       },
       "id": "f7a63f11-4d7e-406e-858a-733fda272f40"
      }
     }
    },
    "0220e04c-69ea-47c0-afd2-1ae537f064f9": {
     "id": "0220e04c-69ea-47c0-afd2-1ae537f064f9",
     "prev": "75d4e621-29f9-45f8-93f0-0f96260d269a",
     "regions": {
      "853f62c2-e744-4d66-933b-833f5afa66e3": {
       "attrs": {
        "height": 0.8,
        "width": 0.8,
        "x": 0.1,
        "y": 0.1
       },
       "content": {
        "cell": "56cd9a9e-474d-40eb-a31a-c2f6eb2bb920",
        "part": "whole"
       },
       "id": "853f62c2-e744-4d66-933b-833f5afa66e3"
      }
     }
    },
    "13a73110-d1f6-40e7-8b0e-ead9c1f3686f": {
     "id": "13a73110-d1f6-40e7-8b0e-ead9c1f3686f",
     "prev": "e0bbfcfe-a155-41a3-b070-ff8e867d96a0",
     "regions": {
      "96017253-c608-4e0f-a3a0-95c081b2309d": {
       "attrs": {
        "height": 0.8,
        "width": 0.8,
        "x": 0.1,
        "y": 0.1
       },
       "content": {
        "cell": "5319f87d-56e6-4e2e-8fca-790d5d7646b8",
        "part": "whole"
       },
       "id": "96017253-c608-4e0f-a3a0-95c081b2309d"
      }
     }
    },
    "15c34d65-9547-4696-ac84-fab3eb4f1ef7": {
     "id": "15c34d65-9547-4696-ac84-fab3eb4f1ef7",
     "prev": "0220e04c-69ea-47c0-afd2-1ae537f064f9",
     "regions": {
      "a1760810-2212-4d2f-b7f0-762b44c9dd02": {
       "attrs": {
        "height": 0.8,
        "width": 0.8,
        "x": 0.1,
        "y": 0.1
       },
       "content": {
        "cell": "c63d66f8-fa41-4ab9-b56c-4b942a5921c2",
        "part": "whole"
       },
       "id": "a1760810-2212-4d2f-b7f0-762b44c9dd02"
      }
     }
    },
    "2e1ba5ff-739a-428a-87ff-3d1b33c0240a": {
     "id": "2e1ba5ff-739a-428a-87ff-3d1b33c0240a",
     "prev": "58d3198d-c961-45b3-970c-87cdfe3cec87",
     "regions": {
      "a64951c1-e447-421e-97f4-6176ed2744e4": {
       "attrs": {
        "height": 0.8,
        "width": 0.8,
        "x": 0.1,
        "y": 0.1
       },
       "content": {
        "cell": "479cafa4-65e0-4c97-9aa1-ee490c70290e",
        "part": "whole"
       },
       "id": "a64951c1-e447-421e-97f4-6176ed2744e4"
      }
     }
    },
    "3357f2af-cd2a-45e5-8bff-9f18a8930b08": {
     "id": "3357f2af-cd2a-45e5-8bff-9f18a8930b08",
     "prev": "6c8b1364-0748-43a1-9b20-b90beafe6054",
     "regions": {
      "5b1b4f35-b864-45c5-8684-2b7cf2c28647": {
       "attrs": {
        "height": 0.8,
        "width": 0.8,
        "x": 0.1,
        "y": 0.1
       },
       "content": {
        "cell": "43cc443c-4158-49f1-bbbc-a2f9bd882b55",
        "part": "whole"
       },
       "id": "5b1b4f35-b864-45c5-8684-2b7cf2c28647"
      }
     }
    },
    "3e25b078-21f4-4f74-b788-178304b7f158": {
     "id": "3e25b078-21f4-4f74-b788-178304b7f158",
     "prev": "8aafd748-28e1-412b-84b9-47e8bb6b4f2a",
     "regions": {
      "93c88d24-465c-4df3-aac2-d1cc9672f51d": {
       "attrs": {
        "height": 0.8,
        "width": 0.8,
        "x": 0.1,
        "y": 0.1
       },
       "content": {
        "cell": "6c976719-a321-4e69-b6c5-bd338436e3f4",
        "part": "whole"
       },
       "id": "93c88d24-465c-4df3-aac2-d1cc9672f51d"
      }
     }
    },
    "43fbc8ac-798c-4fba-9a4f-b8f99db09299": {
     "id": "43fbc8ac-798c-4fba-9a4f-b8f99db09299",
     "prev": "3e25b078-21f4-4f74-b788-178304b7f158",
     "regions": {
      "a4f644bb-5db7-4b31-a0e0-8398632c2c74": {
       "attrs": {
        "height": 0.8,
        "width": 0.8,
        "x": 0.1,
        "y": 0.1
       },
       "content": {
        "cell": "78ea446a-5861-4821-82d6-038e55925243",
        "part": "whole"
       },
       "id": "a4f644bb-5db7-4b31-a0e0-8398632c2c74"
      }
     }
    },
    "48731a9d-157b-4b5b-8f89-265975c57156": {
     "id": "48731a9d-157b-4b5b-8f89-265975c57156",
     "prev": "96c59b9d-7382-448f-81e4-35e758209d90",
     "regions": {
      "cbb04466-eea3-4091-896d-2b1c39e522f8": {
       "attrs": {
        "height": 0.8,
        "width": 0.8,
        "x": 0.1,
        "y": 0.1
       },
       "content": {
        "cell": "5e66ae7e-d0a4-455c-90f6-5374d29d6790",
        "part": "whole"
       },
       "id": "cbb04466-eea3-4091-896d-2b1c39e522f8"
      }
     }
    },
    "4d188bea-cd0e-43d6-9431-2ce91d4b7bc1": {
     "id": "4d188bea-cd0e-43d6-9431-2ce91d4b7bc1",
     "prev": "753d42ca-0b34-4ad6-b585-e3767120ca74",
     "regions": {
      "28b85da2-e693-43ef-83ca-c48c5820d44a": {
       "attrs": {
        "height": 0.8,
        "width": 0.8,
        "x": 0.1,
        "y": 0.1
       },
       "content": {
        "cell": "0e880819-0cc3-4ecf-80e5-dc7a83b0e91c",
        "part": "whole"
       },
       "id": "28b85da2-e693-43ef-83ca-c48c5820d44a"
      }
     }
    },
    "4d59884c-a258-4477-b0da-aca33e8c1bdb": {
     "id": "4d59884c-a258-4477-b0da-aca33e8c1bdb",
     "prev": "b384fca9-b584-47c1-9112-29a5c1099037",
     "regions": {
      "66381ad2-983f-4da0-a473-28c73c9911f9": {
       "attrs": {
        "height": 0.8,
        "width": 0.8,
        "x": 0.1,
        "y": 0.1
       },
       "content": {
        "cell": "ff4bf8ad-7b26-4d1a-bab8-049ac21ee84f",
        "part": "whole"
       },
       "id": "66381ad2-983f-4da0-a473-28c73c9911f9"
      }
     }
    },
    "58d3198d-c961-45b3-970c-87cdfe3cec87": {
     "id": "58d3198d-c961-45b3-970c-87cdfe3cec87",
     "prev": "01ecd8bd-d5c8-42cb-9df3-c0b59a093cfd",
     "regions": {
      "6fbb3416-23a3-4238-b3a9-f7a47be91e84": {
       "attrs": {
        "height": 0.8,
        "width": 0.8,
        "x": 0.1,
        "y": 0.1
       },
       "content": {
        "cell": "5decdc0e-5295-484e-8803-035c689cd1e1",
        "part": "whole"
       },
       "id": "6fbb3416-23a3-4238-b3a9-f7a47be91e84"
      }
     }
    },
    "6c8b1364-0748-43a1-9b20-b90beafe6054": {
     "id": "6c8b1364-0748-43a1-9b20-b90beafe6054",
     "prev": "2e1ba5ff-739a-428a-87ff-3d1b33c0240a",
     "regions": {
      "18115bee-f733-429f-808e-f56777e0a7ca": {
       "attrs": {
        "height": 0.8,
        "width": 0.8,
        "x": 0.1,
        "y": 0.1
       },
       "content": {
        "cell": "1e8df9e7-c237-4469-bc94-1a7891869d69",
        "part": "whole"
       },
       "id": "18115bee-f733-429f-808e-f56777e0a7ca"
      }
     }
    },
    "731b3d63-a578-44e9-9cc4-2f8b6420b1bd": {
     "id": "731b3d63-a578-44e9-9cc4-2f8b6420b1bd",
     "prev": "892417e4-4855-4465-b176-80cd3299fd92",
     "regions": {
      "6634debd-02ac-4a9a-85b7-65c724050d77": {
       "attrs": {
        "height": 0.8,
        "width": 0.8,
        "x": 0.1,
        "y": 0.1
       },
       "content": {
        "cell": "489962fd-4963-4e5b-afd0-051227e5fc34",
        "part": "whole"
       },
       "id": "6634debd-02ac-4a9a-85b7-65c724050d77"
      }
     }
    },
    "753d42ca-0b34-4ad6-b585-e3767120ca74": {
     "id": "753d42ca-0b34-4ad6-b585-e3767120ca74",
     "prev": "48731a9d-157b-4b5b-8f89-265975c57156",
     "regions": {
      "8e8e63df-6f64-418e-9e41-4c2a9a1af0c0": {
       "attrs": {
        "height": 0.8,
        "width": 0.8,
        "x": 0.1,
        "y": 0.1
       },
       "content": {
        "cell": "471f0114-0b7d-462a-9b48-78feedaa5d88",
        "part": "whole"
       },
       "id": "8e8e63df-6f64-418e-9e41-4c2a9a1af0c0"
      }
     }
    },
    "75d4e621-29f9-45f8-93f0-0f96260d269a": {
     "id": "75d4e621-29f9-45f8-93f0-0f96260d269a",
     "prev": "4d59884c-a258-4477-b0da-aca33e8c1bdb",
     "regions": {
      "21c5145c-d5b0-483d-a084-0c69262ea5e1": {
       "attrs": {
        "height": 0.8,
        "width": 0.8,
        "x": 0.1,
        "y": 0.1
       },
       "content": {
        "cell": "1b13a33e-c6f2-4cea-93f0-e4cc6bc909d8",
        "part": "whole"
       },
       "id": "21c5145c-d5b0-483d-a084-0c69262ea5e1"
      }
     }
    },
    "7e1cc536-e427-47dd-a0b3-7d69b55ef318": {
     "id": "7e1cc536-e427-47dd-a0b3-7d69b55ef318",
     "prev": "43fbc8ac-798c-4fba-9a4f-b8f99db09299",
     "regions": {
      "b3540466-3788-4828-9ac3-e4de9d697ecc": {
       "attrs": {
        "height": 0.8,
        "width": 0.8,
        "x": 0.1,
        "y": 0.1
       },
       "content": {
        "cell": "f8b48b69-0703-48a7-8382-abffc26aae3e",
        "part": "whole"
       },
       "id": "b3540466-3788-4828-9ac3-e4de9d697ecc"
      }
     }
    },
    "7eaa5318-86fa-4cba-ac15-16c9b0d68dbb": {
     "id": "7eaa5318-86fa-4cba-ac15-16c9b0d68dbb",
     "prev": "3357f2af-cd2a-45e5-8bff-9f18a8930b08",
     "regions": {
      "3edcce53-c7fc-484d-9477-ddcaabc31a3d": {
       "attrs": {
        "height": 0.8,
        "width": 0.8,
        "x": 0.1,
        "y": 0.1
       },
       "content": {
        "cell": "a856e6aa-a24a-4516-8abd-5bed5c9e6a1f",
        "part": "whole"
       },
       "id": "3edcce53-c7fc-484d-9477-ddcaabc31a3d"
      }
     }
    },
    "892417e4-4855-4465-b176-80cd3299fd92": {
     "id": "892417e4-4855-4465-b176-80cd3299fd92",
     "prev": "8caf2ef2-de52-4b1d-a870-7b98d82b582a",
     "regions": {
      "aa8b30b9-fc36-4de4-a698-c29f5f8b40ec": {
       "attrs": {
        "height": 0.8,
        "width": 0.8,
        "x": 0.1,
        "y": 0.1
       },
       "content": {
        "cell": "7446bc86-5105-45cf-8c6b-1042efe7c35c",
        "part": "whole"
       },
       "id": "aa8b30b9-fc36-4de4-a698-c29f5f8b40ec"
      }
     }
    },
    "8aafd748-28e1-412b-84b9-47e8bb6b4f2a": {
     "id": "8aafd748-28e1-412b-84b9-47e8bb6b4f2a",
     "prev": "ee25c923-db91-4904-9630-35826a371a39",
     "regions": {
      "4f8e8926-fc88-425e-8444-ce231b32ccd5": {
       "attrs": {
        "height": 0.8,
        "width": 0.8,
        "x": 0.1,
        "y": 0.1
       },
       "content": {
        "cell": "7cc3e6fe-193e-47ab-b0e2-e8d4d4744a5e",
        "part": "whole"
       },
       "id": "4f8e8926-fc88-425e-8444-ce231b32ccd5"
      }
     }
    },
    "8caf2ef2-de52-4b1d-a870-7b98d82b582a": {
     "id": "8caf2ef2-de52-4b1d-a870-7b98d82b582a",
     "prev": "bf96cc99-3f14-4abb-a1ec-4f5cd1b54fae",
     "regions": {
      "e40f26ed-c504-4f06-8652-572eacaa4ab7": {
       "attrs": {
        "height": 0.8,
        "width": 0.8,
        "x": 0.1,
        "y": 0.1
       },
       "content": {
        "cell": "b151a178-2dd4-47d1-b27c-8c024a76f5f2",
        "part": "whole"
       },
       "id": "e40f26ed-c504-4f06-8652-572eacaa4ab7"
      }
     }
    },
    "96c59b9d-7382-448f-81e4-35e758209d90": {
     "id": "96c59b9d-7382-448f-81e4-35e758209d90",
     "prev": "7e1cc536-e427-47dd-a0b3-7d69b55ef318",
     "regions": {
      "2af6613a-afeb-4fce-b0f3-b0b0be6d3dc4": {
       "attrs": {
        "height": 0.8,
        "width": 0.8,
        "x": 0.1,
        "y": 0.1
       },
       "content": {
        "cell": "f963267f-c7ab-4304-a7db-709cdfbbffcb",
        "part": "whole"
       },
       "id": "2af6613a-afeb-4fce-b0f3-b0b0be6d3dc4"
      }
     }
    },
    "9cce3983-fbb6-40cf-a07a-1ccd2985e2e4": {
     "id": "9cce3983-fbb6-40cf-a07a-1ccd2985e2e4",
     "prev": "d733e43b-cc59-43b4-a490-5d070a854042",
     "regions": {
      "67f49257-09f8-4fc1-8ffb-41eced3627ac": {
       "attrs": {
        "height": 0.8,
        "width": 0.8,
        "x": 0.1,
        "y": 0.1
       },
       "content": {
        "cell": "5d9aeb32-06e0-4cae-b5e2-a10e69f03769",
        "part": "whole"
       },
       "id": "67f49257-09f8-4fc1-8ffb-41eced3627ac"
      }
     }
    },
    "b384fca9-b584-47c1-9112-29a5c1099037": {
     "id": "b384fca9-b584-47c1-9112-29a5c1099037",
     "prev": "4d188bea-cd0e-43d6-9431-2ce91d4b7bc1",
     "regions": {
      "52a417ed-8344-46f7-a2ce-b26da8457df6": {
       "attrs": {
        "height": 0.8,
        "width": 0.8,
        "x": 0.1,
        "y": 0.1
       },
       "content": {
        "cell": "956ee527-27c5-4e69-9634-3d13afaa59a7",
        "part": "whole"
       },
       "id": "52a417ed-8344-46f7-a2ce-b26da8457df6"
      }
     }
    },
    "b3b64d7b-bc23-4852-a3d1-4b147ae00d05": {
     "id": "b3b64d7b-bc23-4852-a3d1-4b147ae00d05",
     "prev": "15c34d65-9547-4696-ac84-fab3eb4f1ef7",
     "regions": {
      "2c0f98c3-fd45-410c-a535-68880087bfba": {
       "attrs": {
        "height": 0.8,
        "width": 0.8,
        "x": 0.1,
        "y": 0.1
       },
       "content": {
        "cell": "77c547fe-e6af-4336-9c18-65eca84c617e",
        "part": "whole"
       },
       "id": "2c0f98c3-fd45-410c-a535-68880087bfba"
      }
     }
    },
    "b7fa2e50-9f4e-4c5f-afc7-77734a7031ca": {
     "id": "b7fa2e50-9f4e-4c5f-afc7-77734a7031ca",
     "prev": null,
     "regions": {
      "cbf23a74-e584-4f25-a6fb-d3a18ed3af8e": {
       "attrs": {
        "height": 0.8,
        "width": 0.8,
        "x": 0.1,
        "y": 0.1
       },
       "content": {
        "cell": "a88987fc-ec11-4cf7-b2ff-aa768bebd851",
        "part": "whole"
       },
       "id": "cbf23a74-e584-4f25-a6fb-d3a18ed3af8e"
      }
     }
    },
    "ba522c30-460b-4a8a-81d8-24dd62b1d76e": {
     "id": "ba522c30-460b-4a8a-81d8-24dd62b1d76e",
     "prev": "7eaa5318-86fa-4cba-ac15-16c9b0d68dbb",
     "regions": {
      "3e4b9655-a1d2-4123-bdcf-ba7e8dce284b": {
       "attrs": {
        "height": 0.8,
        "width": 0.8,
        "x": 0.1,
        "y": 0.1
       },
       "content": {
        "cell": "b2fef4a0-9cca-46be-b039-d44b19e460f4",
        "part": "whole"
       },
       "id": "3e4b9655-a1d2-4123-bdcf-ba7e8dce284b"
      }
     }
    },
    "bf96cc99-3f14-4abb-a1ec-4f5cd1b54fae": {
     "id": "bf96cc99-3f14-4abb-a1ec-4f5cd1b54fae",
     "prev": "ba522c30-460b-4a8a-81d8-24dd62b1d76e",
     "regions": {
      "925e0d83-c0e1-4a49-9a6f-cc96cd2460b2": {
       "attrs": {
        "height": 0.8,
        "width": 0.8,
        "x": 0.1,
        "y": 0.1
       },
       "content": {
        "cell": "e35c7abd-37e4-44db-b20e-c8980a942078",
        "part": "whole"
       },
       "id": "925e0d83-c0e1-4a49-9a6f-cc96cd2460b2"
      }
     }
    },
    "d733e43b-cc59-43b4-a490-5d070a854042": {
     "id": "d733e43b-cc59-43b4-a490-5d070a854042",
     "prev": "731b3d63-a578-44e9-9cc4-2f8b6420b1bd",
     "regions": {
      "d7f7c78c-afb8-4542-9634-294cb2ca0812": {
       "attrs": {
        "height": 0.8,
        "width": 0.8,
        "x": 0.1,
        "y": 0.1
       },
       "content": {
        "cell": "2aabec85-9dfa-484e-9f30-578b85c8ee90",
        "part": "whole"
       },
       "id": "d7f7c78c-afb8-4542-9634-294cb2ca0812"
      }
     }
    },
    "db263a8b-83a9-4f45-91e7-82dd11e876e9": {
     "id": "db263a8b-83a9-4f45-91e7-82dd11e876e9",
     "prev": "b7fa2e50-9f4e-4c5f-afc7-77734a7031ca",
     "regions": {
      "1c41eede-2d10-44ef-8456-c62d22d56e55": {
       "attrs": {
        "height": 0.8,
        "width": 0.8,
        "x": 0.1,
        "y": 0.1
       },
       "content": {
        "cell": "de03d952-7704-4902-b905-cb064502ce5b",
        "part": "whole"
       },
       "id": "1c41eede-2d10-44ef-8456-c62d22d56e55"
      }
     }
    },
    "e0bbfcfe-a155-41a3-b070-ff8e867d96a0": {
     "id": "e0bbfcfe-a155-41a3-b070-ff8e867d96a0",
     "prev": "b3b64d7b-bc23-4852-a3d1-4b147ae00d05",
     "regions": {
      "f67c4e74-851c-401a-a48a-1d60fffa06c8": {
       "attrs": {
        "height": 0.8,
        "width": 0.8,
        "x": 0.1,
        "y": 0.1
       },
       "content": {
        "cell": "6197efcc-cb84-4f22-851d-fd65a9b28a36",
        "part": "whole"
       },
       "id": "f67c4e74-851c-401a-a48a-1d60fffa06c8"
      }
     }
    },
    "ee25c923-db91-4904-9630-35826a371a39": {
     "id": "ee25c923-db91-4904-9630-35826a371a39",
     "prev": "9cce3983-fbb6-40cf-a07a-1ccd2985e2e4",
     "regions": {
      "a693721e-9b80-493a-855e-d3553ac5b7fe": {
       "attrs": {
        "height": 0.8,
        "width": 0.8,
        "x": 0.1,
        "y": 0.1
       },
       "content": {
        "cell": "60fb28f1-93d5-4bee-a58f-e19f4f99d315",
        "part": "whole"
       },
       "id": "a693721e-9b80-493a-855e-d3553ac5b7fe"
      }
     }
    },
    "fd41fc6d-ee57-4fbd-88f7-7c6a3df4ffb1": {
     "id": "fd41fc6d-ee57-4fbd-88f7-7c6a3df4ffb1",
     "prev": "13a73110-d1f6-40e7-8b0e-ead9c1f3686f",
     "regions": {
      "b3e5af0d-cca3-4c4c-a58c-7f9a5e049641": {
       "attrs": {
        "height": 0.8,
        "width": 0.8,
        "x": 0.1,
        "y": 0.1
       },
       "content": {
        "cell": "7ce8419f-a65c-4457-a74d-0204a8508b59",
        "part": "whole"
       },
       "id": "b3e5af0d-cca3-4c4c-a58c-7f9a5e049641"
      }
     }
    }
   },
   "themes": {}
  }
 },
 "nbformat": 4,
 "nbformat_minor": 2
}
