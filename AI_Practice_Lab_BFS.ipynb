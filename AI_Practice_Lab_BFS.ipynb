{
  "nbformat": 4,
  "nbformat_minor": 0,
  "metadata": {
    "colab": {
      "provenance": [],
      "authorship_tag": "ABX9TyP6hyEy/r+ZrtCLPupItDxg",
      "include_colab_link": true
    },
    "kernelspec": {
      "name": "python3",
      "display_name": "Python 3"
    },
    "language_info": {
      "name": "python"
    }
  },
  "cells": [
    {
      "cell_type": "markdown",
      "metadata": {
        "id": "view-in-github",
        "colab_type": "text"
      },
      "source": [
        "<a href=\"https://colab.research.google.com/github/pkadebu/pruddiek/blob/master/AI_Practice_Lab_BFS.ipynb\" target=\"_parent\"><img src=\"https://colab.research.google.com/assets/colab-badge.svg\" alt=\"Open In Colab\"/></a>"
      ]
    },
    {
      "cell_type": "markdown",
      "source": [
        "1. Define the Graph:\n",
        "We represent the graph as a dictionary where keys are nodes and values are lists of their neighbors.\n"
      ],
      "metadata": {
        "id": "3gEhSP9Cwj4s"
      }
    },
    {
      "cell_type": "code",
      "source": [
        "graph = {\n",
        "    'A': ['B', 'C'],\n",
        "    'B': ['A', 'D', 'E'],\n",
        "    'C': ['A', 'F'],\n",
        "    'D': ['B'],\n",
        "    'E': ['B', 'F'],\n",
        "    'F': ['C', 'E']\n",
        "}"
      ],
      "metadata": {
        "id": "6iuRMFk-psqt"
      },
      "execution_count": 14,
      "outputs": []
    },
    {
      "cell_type": "markdown",
      "source": [
        "2. Implement the BFS function:\n",
        "This function takes the graph, a starting node, and a goal node as input.\n",
        "Keep track of visited nodes to avoid cycles.\n",
        "Initialize a queue with the starting node. The queue will store nodes to be visited.\n",
        "Queue stores paths, not just nodes, to reconstruct the path later."
      ],
      "metadata": {
        "id": "r_hXKwuip8lX"
      }
    },
    {
      "cell_type": "code",
      "source": [
        "def bfs(graph, start, goal):\n",
        "  visited = []\n",
        "  queue = [[start]]"
      ],
      "metadata": {
        "id": "ZPmytukWp-1V"
      },
      "execution_count": 15,
      "outputs": []
    },
    {
      "cell_type": "markdown",
      "source": [
        "Continue as long as there are nodes in the queue."
      ],
      "metadata": {
        "id": "B-ylwoC5s-rE"
      }
    },
    {
      "cell_type": "markdown",
      "source": [],
      "metadata": {
        "id": "2XA9uqKkqNpd"
      }
    },
    {
      "cell_type": "code",
      "source": [
        "def bfs(graph, start, goal):\n",
        "    # Keep track of visited nodes to avoid cycles and redundant processing.\n",
        "    visited = [start] # Mark the starting node as visited initially.\n",
        "    # Initialize a queue with the starting node's path.\n",
        "    queue = [[start]]\n",
        "\n",
        "    # Continue as long as there are nodes (and paths) in the queue.\n",
        "    while queue:\n",
        "        # Get the first path from the queue. This represents the path to the current node being explored.\n",
        "        path = queue.pop(0)\n",
        "        # Get the last node from the path. This is the current node we are exploring.\n",
        "        node = path[-1]\n",
        "\n",
        "        # If the current node is the goal node, we have found the shortest path.\n",
        "        if node == goal:\n",
        "            return path\n",
        "\n",
        "        # Explore the neighbors of the current node.\n",
        "        for neighbor in graph.get(node, []):\n",
        "            # Only process the neighbor if it has not been visited yet.\n",
        "            if neighbor not in visited:\n",
        "                # Create a new path by extending the current path with the neighbor.\n",
        "                new_path = list(path)\n",
        "                new_path.append(neighbor)\n",
        "                # Add the new path to the queue.\n",
        "                queue.append(new_path)\n",
        "                # Mark the neighbor as visited as soon as it's added to the queue.\n",
        "                visited.append(neighbor)\n",
        "\n",
        "    # If the loop finishes and the goal is not found, return None.\n",
        "    return None"
      ],
      "metadata": {
        "id": "kxqq_oxcqOsD"
      },
      "execution_count": 16,
      "outputs": []
    },
    {
      "cell_type": "markdown",
      "source": [],
      "metadata": {
        "id": "oeb5c3PaqG8g"
      }
    },
    {
      "cell_type": "markdown",
      "source": [
        "3. Example Usage:\n",
        "Define the starting and goal nodes."
      ],
      "metadata": {
        "id": "S1nEvmvjvgoB"
      }
    },
    {
      "cell_type": "code",
      "source": [
        "start_node = 'A'\n",
        "goal_node = 'F'"
      ],
      "metadata": {
        "id": "Koovyv46vqkc"
      },
      "execution_count": 17,
      "outputs": []
    },
    {
      "cell_type": "markdown",
      "source": [],
      "metadata": {
        "id": "cOKPwcu1vr11"
      }
    },
    {
      "cell_type": "markdown",
      "source": [
        "Call the BFS function to find the path."
      ],
      "metadata": {
        "id": "ftKIbWgfvwYI"
      }
    },
    {
      "cell_type": "code",
      "source": [
        "shortest_path = bfs(graph, start_node, goal_node)"
      ],
      "metadata": {
        "id": "5NUK_9v3vyVi"
      },
      "execution_count": 18,
      "outputs": []
    },
    {
      "cell_type": "markdown",
      "source": [
        "Print the result."
      ],
      "metadata": {
        "id": "UObusIqDv5_i"
      }
    },
    {
      "cell_type": "code",
      "source": [
        "if shortest_path:\n",
        "    print(f\"The shortest path from {start_node} to {goal_node} is: {shortest_path}\")\n",
        "else:\n",
        "    print(f\"No path found from {start_node} to {goal_node}\")"
      ],
      "metadata": {
        "colab": {
          "base_uri": "https://localhost:8080/"
        },
        "id": "KLKVJHSEv73m",
        "outputId": "117cd63d-f787-4863-cd69-1fc7d63fcbe8"
      },
      "execution_count": 19,
      "outputs": [
        {
          "output_type": "stream",
          "name": "stdout",
          "text": [
            "The shortest path from A to F is: ['A', 'C', 'F']\n"
          ]
        }
      ]
    }
  ]
}